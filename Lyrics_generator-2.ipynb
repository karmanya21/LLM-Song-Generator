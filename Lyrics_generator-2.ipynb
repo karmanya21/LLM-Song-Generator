{
  "metadata": {
    "kernelspec": {
      "name": "python3",
      "display_name": "Python 3",
      "language": "python"
    },
    "language_info": {
      "name": "python",
      "version": "3.10.12",
      "mimetype": "text/x-python",
      "codemirror_mode": {
        "name": "ipython",
        "version": 3
      },
      "pygments_lexer": "ipython3",
      "nbconvert_exporter": "python",
      "file_extension": ".py"
    },
    "colab": {
      "provenance": []
    },
    "kaggle": {
      "accelerator": "gpu",
      "dataSources": [],
      "dockerImageVersionId": 30840,
      "isInternetEnabled": true,
      "language": "python",
      "sourceType": "notebook",
      "isGpuEnabled": true
    }
  },
  "nbformat_minor": 0,
  "nbformat": 4,
  "cells": [
    {
      "cell_type": "markdown",
      "source": [
        "#Web-Scrapping Dataset"
      ],
      "metadata": {
        "id": "enywtgsAVoEQ"
      }
    },
    {
      "cell_type": "code",
      "source": [
        "pip install seaborn"
      ],
      "metadata": {
        "trusted": true,
        "execution": {
          "iopub.status.busy": "2025-01-26T13:45:46.226318Z",
          "iopub.execute_input": "2025-01-26T13:45:46.226625Z",
          "iopub.status.idle": "2025-01-26T13:45:50.519839Z",
          "shell.execute_reply.started": "2025-01-26T13:45:46.226592Z",
          "shell.execute_reply": "2025-01-26T13:45:50.518816Z"
        },
        "id": "Z_okCI_MMl0C",
        "outputId": "20545582-68a5-4846-96b3-6922a3d1d85c"
      },
      "outputs": [
        {
          "name": "stdout",
          "text": "Requirement already satisfied: seaborn in /usr/local/lib/python3.10/dist-packages (0.12.2)\nRequirement already satisfied: numpy!=1.24.0,>=1.17 in /usr/local/lib/python3.10/dist-packages (from seaborn) (1.26.4)\nRequirement already satisfied: pandas>=0.25 in /usr/local/lib/python3.10/dist-packages (from seaborn) (2.2.2)\nRequirement already satisfied: matplotlib!=3.6.1,>=3.1 in /usr/local/lib/python3.10/dist-packages (from seaborn) (3.7.5)\nRequirement already satisfied: contourpy>=1.0.1 in /usr/local/lib/python3.10/dist-packages (from matplotlib!=3.6.1,>=3.1->seaborn) (1.3.1)\nRequirement already satisfied: cycler>=0.10 in /usr/local/lib/python3.10/dist-packages (from matplotlib!=3.6.1,>=3.1->seaborn) (0.12.1)\nRequirement already satisfied: fonttools>=4.22.0 in /usr/local/lib/python3.10/dist-packages (from matplotlib!=3.6.1,>=3.1->seaborn) (4.55.3)\nRequirement already satisfied: kiwisolver>=1.0.1 in /usr/local/lib/python3.10/dist-packages (from matplotlib!=3.6.1,>=3.1->seaborn) (1.4.7)\nRequirement already satisfied: packaging>=20.0 in /usr/local/lib/python3.10/dist-packages (from matplotlib!=3.6.1,>=3.1->seaborn) (24.2)\nRequirement already satisfied: pillow>=6.2.0 in /usr/local/lib/python3.10/dist-packages (from matplotlib!=3.6.1,>=3.1->seaborn) (11.0.0)\nRequirement already satisfied: pyparsing>=2.3.1 in /usr/local/lib/python3.10/dist-packages (from matplotlib!=3.6.1,>=3.1->seaborn) (3.2.0)\nRequirement already satisfied: python-dateutil>=2.7 in /usr/local/lib/python3.10/dist-packages (from matplotlib!=3.6.1,>=3.1->seaborn) (2.8.2)\nRequirement already satisfied: mkl_fft in /usr/local/lib/python3.10/dist-packages (from numpy!=1.24.0,>=1.17->seaborn) (1.3.8)\nRequirement already satisfied: mkl_random in /usr/local/lib/python3.10/dist-packages (from numpy!=1.24.0,>=1.17->seaborn) (1.2.4)\nRequirement already satisfied: mkl_umath in /usr/local/lib/python3.10/dist-packages (from numpy!=1.24.0,>=1.17->seaborn) (0.1.1)\nRequirement already satisfied: mkl in /usr/local/lib/python3.10/dist-packages (from numpy!=1.24.0,>=1.17->seaborn) (2025.0.1)\nRequirement already satisfied: tbb4py in /usr/local/lib/python3.10/dist-packages (from numpy!=1.24.0,>=1.17->seaborn) (2022.0.0)\nRequirement already satisfied: mkl-service in /usr/local/lib/python3.10/dist-packages (from numpy!=1.24.0,>=1.17->seaborn) (2.4.1)\nRequirement already satisfied: pytz>=2020.1 in /usr/local/lib/python3.10/dist-packages (from pandas>=0.25->seaborn) (2024.2)\nRequirement already satisfied: tzdata>=2022.7 in /usr/local/lib/python3.10/dist-packages (from pandas>=0.25->seaborn) (2024.2)\nRequirement already satisfied: six>=1.5 in /usr/local/lib/python3.10/dist-packages (from python-dateutil>=2.7->matplotlib!=3.6.1,>=3.1->seaborn) (1.17.0)\nRequirement already satisfied: intel-openmp>=2024 in /usr/local/lib/python3.10/dist-packages (from mkl->numpy!=1.24.0,>=1.17->seaborn) (2024.2.0)\nRequirement already satisfied: tbb==2022.* in /usr/local/lib/python3.10/dist-packages (from mkl->numpy!=1.24.0,>=1.17->seaborn) (2022.0.0)\nRequirement already satisfied: tcmlib==1.* in /usr/local/lib/python3.10/dist-packages (from tbb==2022.*->mkl->numpy!=1.24.0,>=1.17->seaborn) (1.2.0)\nRequirement already satisfied: intel-cmplr-lib-rt in /usr/local/lib/python3.10/dist-packages (from mkl_umath->numpy!=1.24.0,>=1.17->seaborn) (2024.2.0)\nRequirement already satisfied: intel-cmplr-lib-ur==2024.2.0 in /usr/local/lib/python3.10/dist-packages (from intel-openmp>=2024->mkl->numpy!=1.24.0,>=1.17->seaborn) (2024.2.0)\nNote: you may need to restart the kernel to use updated packages.\n",
          "output_type": "stream"
        }
      ],
      "execution_count": null
    },
    {
      "cell_type": "code",
      "source": [
        "import numpy as np\n",
        "import pandas as pd\n",
        "import matplotlib.pyplot as plt\n",
        "import seaborn as sns\n",
        "from sklearn.model_selection import train_test_split"
      ],
      "metadata": {
        "id": "mK70bV6iqzAS",
        "trusted": true,
        "execution": {
          "iopub.status.busy": "2025-01-26T13:45:50.520892Z",
          "iopub.execute_input": "2025-01-26T13:45:50.521218Z",
          "iopub.status.idle": "2025-01-26T13:45:51.670010Z",
          "shell.execute_reply.started": "2025-01-26T13:45:50.521183Z",
          "shell.execute_reply": "2025-01-26T13:45:51.669360Z"
        }
      },
      "outputs": [],
      "execution_count": null
    },
    {
      "cell_type": "code",
      "source": [
        "from typing_extensions import Required\n",
        "import requests\n",
        "from bs4 import BeautifulSoup\n",
        "\n",
        "def scrape_lyrics(url):\n",
        "    headers = {\n",
        "    \"User-Agent\": \"Mozilla/5.0 (Windows NT 10.0; Win64; x64) AppleWebKit/537.36 (KHTML, like Gecko) Chrome/91.0.4472.124 Safari/537.36\"\n",
        "    }\n",
        "    response = requests.get(url, headers=headers)\n",
        "\n",
        "    if response.status_code == 200:\n",
        "        soup = BeautifulSoup(response.content, 'html.parser')\n",
        "        lyrics = [];\n",
        "        tableBody = soup.find('table').tbody\n",
        "        tableRows = tableBody.find_all('tr')\n",
        "        #for row in tableRows:\n",
        "        for row in tableRows:\n",
        "          all_td = row.find_all('td')\n",
        "          for tds in all_td:\n",
        "            if(tds.find('a') == None):\n",
        "              continue\n",
        "            else:\n",
        "              break\n",
        "          link = tds.find('a')\n",
        "          if(link == None):\n",
        "            continue\n",
        "          lyrics_url = \"https://www.lyrics.com/\" + link['href']\n",
        "          #print(lyrics_url)\n",
        "          lyrics_response = requests.get(lyrics_url, headers=headers)\n",
        "          if response.status_code == 200:\n",
        "            soup1 = BeautifulSoup(lyrics_response.content, 'html.parser')\n",
        "            lyricsBodyText = soup1.find('div',class_=\"lyric clearfix\").pre\n",
        "            if(lyricsBodyText == None):\n",
        "              continue\n",
        "            #print(lyricsBodyText)\n",
        "            lyrics.append(lyricsBodyText.text)\n",
        "          else:\n",
        "            print(f\"Failed to fetch page. Status code: {response.status_code}\")\n",
        "\n",
        "\n",
        "\n",
        "        return lyrics;\n",
        "\n",
        "    else:\n",
        "        print(f\"Failed to fetch page. Status code: {response.status_code}\")\n",
        "\n",
        "\n"
      ],
      "metadata": {
        "id": "C2Qt505MVjQo",
        "trusted": true,
        "execution": {
          "iopub.status.busy": "2025-01-26T13:45:51.670777Z",
          "iopub.execute_input": "2025-01-26T13:45:51.671130Z",
          "iopub.status.idle": "2025-01-26T13:45:52.010290Z",
          "shell.execute_reply.started": "2025-01-26T13:45:51.671107Z",
          "shell.execute_reply": "2025-01-26T13:45:52.009657Z"
        }
      },
      "outputs": [],
      "execution_count": null
    },
    {
      "cell_type": "code",
      "source": [
        "all_lyrics = []\n",
        "lyrics = scrape_lyrics(\"https://www.lyrics.com/album/3795603/100-Greatest-Breakfast-Songs\")\n",
        "all_lyrics.extend(lyrics)\n",
        "print(len(all_lyrics))"
      ],
      "metadata": {
        "id": "LiKsaxTm6Uro",
        "trusted": true,
        "execution": {
          "iopub.status.busy": "2025-01-26T13:45:52.010967Z",
          "iopub.execute_input": "2025-01-26T13:45:52.011317Z",
          "iopub.status.idle": "2025-01-26T13:46:43.099131Z",
          "shell.execute_reply.started": "2025-01-26T13:45:52.011297Z",
          "shell.execute_reply": "2025-01-26T13:46:43.098405Z"
        },
        "outputId": "60a823c7-c018-4540-abdc-1a76ec379f1c"
      },
      "outputs": [
        {
          "name": "stdout",
          "text": "76\n",
          "output_type": "stream"
        }
      ],
      "execution_count": null
    },
    {
      "cell_type": "code",
      "source": [
        "lyrics = scrape_lyrics(\"https://www.lyrics.com/album/3795714/100-Greatest-Acoustic-Songs\")\n",
        "all_lyrics.extend(lyrics)"
      ],
      "metadata": {
        "id": "Fo7-md5cYVR5",
        "trusted": true,
        "execution": {
          "iopub.status.busy": "2025-01-26T13:46:43.099840Z",
          "iopub.execute_input": "2025-01-26T13:46:43.100042Z",
          "iopub.status.idle": "2025-01-26T13:47:31.167878Z",
          "shell.execute_reply.started": "2025-01-26T13:46:43.100022Z",
          "shell.execute_reply": "2025-01-26T13:47:31.166985Z"
        }
      },
      "outputs": [],
      "execution_count": null
    },
    {
      "cell_type": "code",
      "source": [
        "print(len(all_lyrics))"
      ],
      "metadata": {
        "id": "ZROCnzt9YmQV",
        "trusted": true,
        "execution": {
          "iopub.status.busy": "2025-01-26T13:47:31.169915Z",
          "iopub.execute_input": "2025-01-26T13:47:31.170151Z",
          "iopub.status.idle": "2025-01-26T13:47:31.174106Z",
          "shell.execute_reply.started": "2025-01-26T13:47:31.170131Z",
          "shell.execute_reply": "2025-01-26T13:47:31.173423Z"
        },
        "outputId": "9e75e8d1-3a66-40a8-dea2-f7086bdc97c1"
      },
      "outputs": [
        {
          "name": "stdout",
          "text": "137\n",
          "output_type": "stream"
        }
      ],
      "execution_count": null
    },
    {
      "cell_type": "code",
      "source": [
        "lyrics = scrape_lyrics(\"https://www.lyrics.com/album/3810248/100-Greatest-Summer-Songs\")\n",
        "all_lyrics.extend(lyrics)\n",
        "print(len(all_lyrics))"
      ],
      "metadata": {
        "id": "W3jFEy5oaR8S",
        "trusted": true,
        "execution": {
          "iopub.status.busy": "2025-01-26T13:47:31.175453Z",
          "iopub.execute_input": "2025-01-26T13:47:31.175665Z",
          "iopub.status.idle": "2025-01-26T13:48:31.939818Z",
          "shell.execute_reply.started": "2025-01-26T13:47:31.175647Z",
          "shell.execute_reply": "2025-01-26T13:48:31.938970Z"
        },
        "outputId": "1c298ee2-3964-449e-c634-fbe83af01eee"
      },
      "outputs": [
        {
          "name": "stdout",
          "text": "219\n",
          "output_type": "stream"
        }
      ],
      "execution_count": null
    },
    {
      "cell_type": "code",
      "source": [
        "lyrics = scrape_lyrics(\"https://www.lyrics.com/album/3397581/100-Hits%3A-Summer-2016\")\n",
        "all_lyrics.extend(lyrics)\n",
        "print(len(all_lyrics))"
      ],
      "metadata": {
        "id": "V1pyEoUJbImm",
        "trusted": true,
        "execution": {
          "iopub.status.busy": "2025-01-26T13:48:31.940688Z",
          "iopub.execute_input": "2025-01-26T13:48:31.941005Z",
          "iopub.status.idle": "2025-01-26T13:50:49.767000Z",
          "shell.execute_reply.started": "2025-01-26T13:48:31.940972Z",
          "shell.execute_reply": "2025-01-26T13:50:49.766233Z"
        },
        "outputId": "25cfff0c-9a53-4078-d2fa-42193fd030b7"
      },
      "outputs": [
        {
          "name": "stdout",
          "text": "271\n",
          "output_type": "stream"
        }
      ],
      "execution_count": null
    },
    {
      "cell_type": "code",
      "source": [
        "lyrics = scrape_lyrics(\"https://www.lyrics.com/album/3355978/69-Hits-2016\")\n",
        "all_lyrics.extend(lyrics)\n",
        "print(len(all_lyrics))"
      ],
      "metadata": {
        "id": "OQrZXYhOey0K",
        "trusted": true,
        "execution": {
          "iopub.status.busy": "2025-01-26T13:50:49.767810Z",
          "iopub.execute_input": "2025-01-26T13:50:49.768156Z",
          "iopub.status.idle": "2025-01-26T13:51:31.733554Z",
          "shell.execute_reply.started": "2025-01-26T13:50:49.768104Z",
          "shell.execute_reply": "2025-01-26T13:51:31.732787Z"
        },
        "outputId": "ebf636f3-23e5-43b5-e0dd-48813f2be6ee"
      },
      "outputs": [
        {
          "name": "stdout",
          "text": "314\n",
          "output_type": "stream"
        }
      ],
      "execution_count": null
    },
    {
      "cell_type": "code",
      "source": [
        "lyrics = scrape_lyrics(\"https://www.lyrics.com/album/3802116/Afternoon-Songs\")\n",
        "all_lyrics.extend(lyrics)\n",
        "print(len(all_lyrics))"
      ],
      "metadata": {
        "id": "gF9-UM-HfEvL",
        "trusted": true,
        "execution": {
          "iopub.status.busy": "2025-01-26T13:51:31.734500Z",
          "iopub.execute_input": "2025-01-26T13:51:31.734841Z",
          "iopub.status.idle": "2025-01-26T13:51:54.179798Z",
          "shell.execute_reply.started": "2025-01-26T13:51:31.734807Z",
          "shell.execute_reply": "2025-01-26T13:51:54.179071Z"
        },
        "outputId": "d4a0a894-3d79-44e1-f441-05445cb409cd"
      },
      "outputs": [
        {
          "name": "stdout",
          "text": "346\n",
          "output_type": "stream"
        }
      ],
      "execution_count": null
    },
    {
      "cell_type": "code",
      "source": [
        "lyrics = scrape_lyrics(\"https://www.lyrics.com/album/3813824/Afternoon-Tunes\")\n",
        "all_lyrics.extend(lyrics)\n",
        "print(len(all_lyrics))"
      ],
      "metadata": {
        "id": "s4zeLhCdgmIs",
        "trusted": true,
        "execution": {
          "iopub.status.busy": "2025-01-26T13:51:54.180545Z",
          "iopub.execute_input": "2025-01-26T13:51:54.180760Z",
          "iopub.status.idle": "2025-01-26T13:52:18.173881Z",
          "shell.execute_reply.started": "2025-01-26T13:51:54.180742Z",
          "shell.execute_reply": "2025-01-26T13:52:18.173190Z"
        },
        "outputId": "07aa1324-5993-4d71-d7c6-0ffd443b1ed0"
      },
      "outputs": [
        {
          "name": "stdout",
          "text": "379\n",
          "output_type": "stream"
        }
      ],
      "execution_count": null
    },
    {
      "cell_type": "code",
      "source": [
        "lyrics = scrape_lyrics(\"https://www.lyrics.com/album/3663801/55-Hits-Spring-2018\")\n",
        "all_lyrics.extend(lyrics)\n",
        "print(len(all_lyrics))"
      ],
      "metadata": {
        "id": "ZwltDLFtgT8x",
        "trusted": true,
        "execution": {
          "iopub.status.busy": "2025-01-26T13:52:18.174556Z",
          "iopub.execute_input": "2025-01-26T13:52:18.174790Z",
          "iopub.status.idle": "2025-01-26T13:52:31.313865Z",
          "shell.execute_reply.started": "2025-01-26T13:52:18.174770Z",
          "shell.execute_reply": "2025-01-26T13:52:31.313109Z"
        },
        "outputId": "9bc57032-a9ee-4d29-c8b8-8673d02812bc"
      },
      "outputs": [
        {
          "name": "stdout",
          "text": "398\n",
          "output_type": "stream"
        }
      ],
      "execution_count": null
    },
    {
      "cell_type": "code",
      "source": [
        "lyrics = scrape_lyrics(\"https://www.lyrics.com/album/3673470/Now-That%27s-What-I-Call-Music%2C-Vol.-66\")\n",
        "all_lyrics.extend(lyrics)\n",
        "print(len(all_lyrics))"
      ],
      "metadata": {
        "id": "e4zkUKyUgt1m",
        "trusted": true,
        "execution": {
          "iopub.status.busy": "2025-01-26T13:52:31.314672Z",
          "iopub.execute_input": "2025-01-26T13:52:31.314986Z",
          "iopub.status.idle": "2025-01-26T13:52:48.348966Z",
          "shell.execute_reply.started": "2025-01-26T13:52:31.314954Z",
          "shell.execute_reply": "2025-01-26T13:52:48.348210Z"
        },
        "outputId": "1bb866dc-ab20-4b70-8012-26c72d1a76e4"
      },
      "outputs": [
        {
          "name": "stdout",
          "text": "416\n",
          "output_type": "stream"
        }
      ],
      "execution_count": null
    },
    {
      "cell_type": "code",
      "source": [
        "all_lyrics = list(set(all_lyrics))"
      ],
      "metadata": {
        "id": "iNFM24b5wAn_",
        "trusted": true,
        "execution": {
          "iopub.status.busy": "2025-01-26T13:52:48.349757Z",
          "iopub.execute_input": "2025-01-26T13:52:48.349970Z",
          "iopub.status.idle": "2025-01-26T13:52:48.354092Z",
          "shell.execute_reply.started": "2025-01-26T13:52:48.349952Z",
          "shell.execute_reply": "2025-01-26T13:52:48.353256Z"
        }
      },
      "outputs": [],
      "execution_count": null
    },
    {
      "cell_type": "code",
      "source": [
        "len(all_lyrics)"
      ],
      "metadata": {
        "id": "Pd6EgKuewFMY",
        "trusted": true,
        "execution": {
          "iopub.status.busy": "2025-01-26T13:52:48.355047Z",
          "iopub.execute_input": "2025-01-26T13:52:48.355339Z",
          "iopub.status.idle": "2025-01-26T13:52:48.372149Z",
          "shell.execute_reply.started": "2025-01-26T13:52:48.355318Z",
          "shell.execute_reply": "2025-01-26T13:52:48.371294Z"
        },
        "outputId": "d5080b77-5721-4ed8-cc55-79fa15f73fe9"
      },
      "outputs": [
        {
          "execution_count": 15,
          "output_type": "execute_result",
          "data": {
            "text/plain": "338"
          },
          "metadata": {}
        }
      ],
      "execution_count": null
    },
    {
      "cell_type": "code",
      "source": [
        "lyrics = scrape_lyrics(\"https://www.lyrics.com/album/2630902/Now-That%27s-What-I-Call-Music%21%2C-Vol.-83\")\n",
        "all_lyrics.extend(lyrics)\n",
        "print(len(all_lyrics))"
      ],
      "metadata": {
        "id": "NBQ-KqFt46jO",
        "trusted": true,
        "execution": {
          "iopub.status.busy": "2025-01-26T13:52:48.373066Z",
          "iopub.execute_input": "2025-01-26T13:52:48.373384Z",
          "iopub.status.idle": "2025-01-26T13:53:20.070964Z",
          "shell.execute_reply.started": "2025-01-26T13:52:48.373337Z",
          "shell.execute_reply": "2025-01-26T13:53:20.070221Z"
        },
        "outputId": "67e61f79-6880-4b79-a392-9bc4daf187ca"
      },
      "outputs": [
        {
          "name": "stdout",
          "text": "378\n",
          "output_type": "stream"
        }
      ],
      "execution_count": null
    },
    {
      "cell_type": "code",
      "source": [
        "all_lyrics = list(set(all_lyrics))\n",
        "len(all_lyrics)"
      ],
      "metadata": {
        "id": "54NdJ8m25Ls1",
        "trusted": true,
        "execution": {
          "iopub.status.busy": "2025-01-26T13:53:20.071709Z",
          "iopub.execute_input": "2025-01-26T13:53:20.071974Z",
          "iopub.status.idle": "2025-01-26T13:53:20.076841Z",
          "shell.execute_reply.started": "2025-01-26T13:53:20.071941Z",
          "shell.execute_reply": "2025-01-26T13:53:20.076148Z"
        },
        "outputId": "3884e31c-b111-4325-d9b0-866aa963e119"
      },
      "outputs": [
        {
          "execution_count": 17,
          "output_type": "execute_result",
          "data": {
            "text/plain": "378"
          },
          "metadata": {}
        }
      ],
      "execution_count": null
    },
    {
      "cell_type": "code",
      "source": [
        "lyrics = scrape_lyrics(\"https://www.lyrics.com/album/3588085/Now-That%27s-What-I-Call-Music%21-95\")\n",
        "all_lyrics.extend(lyrics)\n",
        "print(len(all_lyrics))"
      ],
      "metadata": {
        "id": "I13k4MAt5aSD",
        "trusted": true,
        "execution": {
          "iopub.status.busy": "2025-01-26T13:53:20.077626Z",
          "iopub.execute_input": "2025-01-26T13:53:20.077866Z",
          "iopub.status.idle": "2025-01-26T13:53:35.539738Z",
          "shell.execute_reply.started": "2025-01-26T13:53:20.077848Z",
          "shell.execute_reply": "2025-01-26T13:53:35.538709Z"
        },
        "outputId": "a1cb2d3b-8056-454a-ca72-8a2e12359afb"
      },
      "outputs": [
        {
          "name": "stdout",
          "text": "392\n",
          "output_type": "stream"
        }
      ],
      "execution_count": null
    },
    {
      "cell_type": "code",
      "source": [
        "all_lyrics = list(set(all_lyrics))\n",
        "len(all_lyrics)"
      ],
      "metadata": {
        "id": "YGtVAsmi5imx",
        "trusted": true,
        "execution": {
          "iopub.status.busy": "2025-01-26T13:53:35.540687Z",
          "iopub.execute_input": "2025-01-26T13:53:35.540998Z",
          "iopub.status.idle": "2025-01-26T13:53:35.546151Z",
          "shell.execute_reply.started": "2025-01-26T13:53:35.540965Z",
          "shell.execute_reply": "2025-01-26T13:53:35.545325Z"
        },
        "outputId": "c6ba131e-c9cf-4cd2-c2d2-2a4f2bd1364e"
      },
      "outputs": [
        {
          "execution_count": 19,
          "output_type": "execute_result",
          "data": {
            "text/plain": "391"
          },
          "metadata": {}
        }
      ],
      "execution_count": null
    },
    {
      "cell_type": "code",
      "source": [
        "lyrics = scrape_lyrics(\"https://www.lyrics.com/album/375684/Now-That%27s-What-I-Call-Music%21-Vol.-4\")\n",
        "all_lyrics.extend(lyrics)\n",
        "print(len(all_lyrics))"
      ],
      "metadata": {
        "id": "hPrQNCEK5pXv",
        "trusted": true,
        "execution": {
          "iopub.status.busy": "2025-01-26T13:53:35.550543Z",
          "iopub.execute_input": "2025-01-26T13:53:35.550752Z",
          "iopub.status.idle": "2025-01-26T13:54:05.423170Z",
          "shell.execute_reply.started": "2025-01-26T13:53:35.550734Z",
          "shell.execute_reply": "2025-01-26T13:54:05.422254Z"
        },
        "outputId": "4f46dd56-7525-4b18-f3f8-0cb6d2c342ed"
      },
      "outputs": [
        {
          "name": "stdout",
          "text": "427\n",
          "output_type": "stream"
        }
      ],
      "execution_count": null
    },
    {
      "cell_type": "code",
      "source": [
        "lyrics = scrape_lyrics(\"https://www.lyrics.com/album/3817347/Now-That%27s-What-I-Call-Music%21-70\")\n",
        "all_lyrics.extend(lyrics)\n",
        "print(len(all_lyrics))"
      ],
      "metadata": {
        "id": "nDU89E_46oCO",
        "trusted": true,
        "execution": {
          "iopub.status.busy": "2025-01-26T13:54:05.425736Z",
          "iopub.execute_input": "2025-01-26T13:54:05.425955Z",
          "iopub.status.idle": "2025-01-26T13:54:27.553409Z",
          "shell.execute_reply.started": "2025-01-26T13:54:05.425937Z",
          "shell.execute_reply": "2025-01-26T13:54:27.552603Z"
        },
        "outputId": "2fc925a6-202c-46e2-e111-67bcc3fb1ebd"
      },
      "outputs": [
        {
          "name": "stdout",
          "text": "444\n",
          "output_type": "stream"
        }
      ],
      "execution_count": null
    },
    {
      "cell_type": "code",
      "source": [
        "lyrics = scrape_lyrics(\"https://www.lyrics.com/album/3522082/Now-That%27s-What-I-Call-Music%21-97\")\n",
        "all_lyrics.extend(lyrics)\n",
        "print(len(all_lyrics))"
      ],
      "metadata": {
        "id": "AOylhFGl7KKZ",
        "trusted": true,
        "execution": {
          "iopub.status.busy": "2025-01-26T13:54:27.554201Z",
          "iopub.execute_input": "2025-01-26T13:54:27.554537Z",
          "iopub.status.idle": "2025-01-26T13:54:49.114244Z",
          "shell.execute_reply.started": "2025-01-26T13:54:27.554505Z",
          "shell.execute_reply": "2025-01-26T13:54:49.113332Z"
        },
        "outputId": "ee79bf56-6259-40c3-8816-726691fdf8bc"
      },
      "outputs": [
        {
          "name": "stdout",
          "text": "478\n",
          "output_type": "stream"
        }
      ],
      "execution_count": null
    },
    {
      "cell_type": "code",
      "source": [
        "lyrics = scrape_lyrics(\"https://www.lyrics.com/album/3445426/Now-That%27s-What-I-Call-Music%21-61\")\n",
        "all_lyrics.extend(lyrics)\n",
        "print(len(all_lyrics))"
      ],
      "metadata": {
        "id": "fZfPobZb7kEM",
        "trusted": true,
        "execution": {
          "iopub.status.busy": "2025-01-26T13:54:49.115176Z",
          "iopub.execute_input": "2025-01-26T13:54:49.115488Z",
          "iopub.status.idle": "2025-01-26T13:54:59.322531Z",
          "shell.execute_reply.started": "2025-01-26T13:54:49.115462Z",
          "shell.execute_reply": "2025-01-26T13:54:59.321770Z"
        },
        "outputId": "8caf1628-1e8f-4ee9-f043-c5f0914fd468"
      },
      "outputs": [
        {
          "name": "stdout",
          "text": "495\n",
          "output_type": "stream"
        }
      ],
      "execution_count": null
    },
    {
      "cell_type": "code",
      "source": [
        "lyrics = scrape_lyrics(\"https://www.lyrics.com/album/3407138/Latest-%26-Greatest-Party-Hits-%5B2016%5D\")\n",
        "all_lyrics.extend(lyrics)\n",
        "print(len(all_lyrics))"
      ],
      "metadata": {
        "id": "FveVZ_QE725I",
        "trusted": true,
        "execution": {
          "iopub.status.busy": "2025-01-26T13:54:59.323287Z",
          "iopub.execute_input": "2025-01-26T13:54:59.323570Z",
          "iopub.status.idle": "2025-01-26T13:55:28.561778Z",
          "shell.execute_reply.started": "2025-01-26T13:54:59.323534Z",
          "shell.execute_reply": "2025-01-26T13:55:28.561035Z"
        },
        "outputId": "1e391554-d61e-4a55-a1b8-0a741623c7b0"
      },
      "outputs": [
        {
          "name": "stdout",
          "text": "537\n",
          "output_type": "stream"
        }
      ],
      "execution_count": null
    },
    {
      "cell_type": "code",
      "source": [
        "lyrics = scrape_lyrics(\"https://www.lyrics.com/album/3778125/Grammy-Nominees-2019\")\n",
        "all_lyrics.extend(lyrics)\n",
        "print(len(all_lyrics))"
      ],
      "metadata": {
        "id": "5ov3QMa1Oi94",
        "trusted": true,
        "execution": {
          "iopub.status.busy": "2025-01-26T13:55:28.562558Z",
          "iopub.execute_input": "2025-01-26T13:55:28.562767Z",
          "iopub.status.idle": "2025-01-26T13:55:38.394265Z",
          "shell.execute_reply.started": "2025-01-26T13:55:28.562748Z",
          "shell.execute_reply": "2025-01-26T13:55:38.393422Z"
        },
        "outputId": "3d33bfe9-99b1-41e8-bb55-ace60d78a714"
      },
      "outputs": [
        {
          "name": "stdout",
          "text": "553\n",
          "output_type": "stream"
        }
      ],
      "execution_count": null
    },
    {
      "cell_type": "code",
      "source": [
        "lyrics = scrape_lyrics(\"https://www.lyrics.com/album/3699097/101-Hits%3A-Keep-on-Running\")\n",
        "all_lyrics.extend(lyrics)\n",
        "print(len(all_lyrics))"
      ],
      "metadata": {
        "id": "EpCBU-twPVZB",
        "trusted": true,
        "execution": {
          "iopub.status.busy": "2025-01-26T13:55:38.395306Z",
          "iopub.execute_input": "2025-01-26T13:55:38.395646Z",
          "iopub.status.idle": "2025-01-26T13:56:31.319846Z",
          "shell.execute_reply.started": "2025-01-26T13:55:38.395615Z",
          "shell.execute_reply": "2025-01-26T13:56:31.319110Z"
        },
        "outputId": "16701026-92e1-4490-973e-e4c47658787b"
      },
      "outputs": [
        {
          "name": "stdout",
          "text": "628\n",
          "output_type": "stream"
        }
      ],
      "execution_count": null
    },
    {
      "cell_type": "code",
      "source": [
        "all_lyrics = list(set(all_lyrics))\n",
        "len(all_lyrics)"
      ],
      "metadata": {
        "id": "wo78SieE5tyv",
        "trusted": true,
        "execution": {
          "iopub.status.busy": "2025-01-26T13:56:31.320624Z",
          "iopub.execute_input": "2025-01-26T13:56:31.320853Z",
          "iopub.status.idle": "2025-01-26T13:56:31.325968Z",
          "shell.execute_reply.started": "2025-01-26T13:56:31.320822Z",
          "shell.execute_reply": "2025-01-26T13:56:31.325285Z"
        },
        "outputId": "a4ab9400-de47-466e-fd1b-c5eb427a8f63"
      },
      "outputs": [
        {
          "execution_count": 27,
          "output_type": "execute_result",
          "data": {
            "text/plain": "614"
          },
          "metadata": {}
        }
      ],
      "execution_count": null
    },
    {
      "cell_type": "markdown",
      "source": [
        "#Data Cleansing"
      ],
      "metadata": {
        "id": "yiwQ_LNCVvbZ"
      }
    },
    {
      "cell_type": "markdown",
      "source": [
        "Removing Non-English Lyrics"
      ],
      "metadata": {
        "id": "e497ILo4V1Aq"
      }
    },
    {
      "cell_type": "code",
      "source": [
        "def is_english(text):\n",
        "    # Skip empty or non-text lyrics\n",
        "    if not text.strip():  # Handles empty or whitespace-only text\n",
        "        return False\n",
        "    return detect(text) == 'en'"
      ],
      "metadata": {
        "id": "oHQKVrJ6_e76",
        "trusted": true,
        "execution": {
          "iopub.status.busy": "2025-01-26T13:56:31.326846Z",
          "iopub.execute_input": "2025-01-26T13:56:31.327133Z",
          "iopub.status.idle": "2025-01-26T13:56:31.340742Z",
          "shell.execute_reply.started": "2025-01-26T13:56:31.327113Z",
          "shell.execute_reply": "2025-01-26T13:56:31.340118Z"
        }
      },
      "outputs": [],
      "execution_count": null
    },
    {
      "cell_type": "code",
      "source": [
        "pip install langdetect"
      ],
      "metadata": {
        "id": "ynLSJLvZqf4X",
        "trusted": true,
        "execution": {
          "iopub.status.busy": "2025-01-26T13:56:31.341494Z",
          "iopub.execute_input": "2025-01-26T13:56:31.341776Z",
          "iopub.status.idle": "2025-01-26T13:56:36.838783Z",
          "shell.execute_reply.started": "2025-01-26T13:56:31.341748Z",
          "shell.execute_reply": "2025-01-26T13:56:36.837861Z"
        },
        "outputId": "001a2a6b-c749-429c-bdc9-be3257ecfc95"
      },
      "outputs": [
        {
          "name": "stdout",
          "text": "Collecting langdetect\n  Downloading langdetect-1.0.9.tar.gz (981 kB)\n\u001b[2K     \u001b[90m━━━━━━━━━━━━━━━━━━━━━━━━━━━━━━━━━━━━━━━━\u001b[0m \u001b[32m981.5/981.5 kB\u001b[0m \u001b[31m19.2 MB/s\u001b[0m eta \u001b[36m0:00:00\u001b[0ma \u001b[36m0:00:01\u001b[0m\n\u001b[?25h  Preparing metadata (setup.py) ... \u001b[?25l\u001b[?25hdone\nRequirement already satisfied: six in /usr/local/lib/python3.10/dist-packages (from langdetect) (1.17.0)\nBuilding wheels for collected packages: langdetect\n  Building wheel for langdetect (setup.py) ... \u001b[?25l\u001b[?25hdone\n  Created wheel for langdetect: filename=langdetect-1.0.9-py3-none-any.whl size=993222 sha256=c3a11dbd840b00761e7dac56178d79b66c400947e73a71df1995e3511086dfea\n  Stored in directory: /root/.cache/pip/wheels/95/03/7d/59ea870c70ce4e5a370638b5462a7711ab78fba2f655d05106\nSuccessfully built langdetect\nInstalling collected packages: langdetect\nSuccessfully installed langdetect-1.0.9\nNote: you may need to restart the kernel to use updated packages.\n",
          "output_type": "stream"
        }
      ],
      "execution_count": null
    },
    {
      "cell_type": "code",
      "source": [
        "from langdetect import detect"
      ],
      "metadata": {
        "id": "XDa40QRXKg_U",
        "trusted": true,
        "execution": {
          "iopub.status.busy": "2025-01-26T13:56:36.839709Z",
          "iopub.execute_input": "2025-01-26T13:56:36.840019Z",
          "iopub.status.idle": "2025-01-26T13:56:36.856442Z",
          "shell.execute_reply.started": "2025-01-26T13:56:36.839980Z",
          "shell.execute_reply": "2025-01-26T13:56:36.855771Z"
        }
      },
      "outputs": [],
      "execution_count": null
    },
    {
      "cell_type": "code",
      "source": [
        "all_lyrics = [lyric for lyric in all_lyrics if is_english(lyric)]"
      ],
      "metadata": {
        "id": "KYqx9Gvf_0KL",
        "trusted": true,
        "execution": {
          "iopub.status.busy": "2025-01-26T13:56:36.857133Z",
          "iopub.execute_input": "2025-01-26T13:56:36.857329Z",
          "iopub.status.idle": "2025-01-26T13:56:41.550174Z",
          "shell.execute_reply.started": "2025-01-26T13:56:36.857312Z",
          "shell.execute_reply": "2025-01-26T13:56:41.549267Z"
        }
      },
      "outputs": [],
      "execution_count": null
    },
    {
      "cell_type": "code",
      "source": [
        "len(all_lyrics)"
      ],
      "metadata": {
        "id": "fkxwXm_4_7fQ",
        "trusted": true,
        "execution": {
          "iopub.status.busy": "2025-01-26T13:56:41.551061Z",
          "iopub.execute_input": "2025-01-26T13:56:41.551378Z",
          "iopub.status.idle": "2025-01-26T13:56:41.556340Z",
          "shell.execute_reply.started": "2025-01-26T13:56:41.551331Z",
          "shell.execute_reply": "2025-01-26T13:56:41.555582Z"
        },
        "outputId": "62124c60-b1d3-49ff-f4ee-4c187d3db841"
      },
      "outputs": [
        {
          "execution_count": 32,
          "output_type": "execute_result",
          "data": {
            "text/plain": "577"
          },
          "metadata": {}
        }
      ],
      "execution_count": null
    },
    {
      "cell_type": "code",
      "source": [
        "print(all_lyrics[9])"
      ],
      "metadata": {
        "id": "FOyD0ok54W4y",
        "trusted": true,
        "execution": {
          "iopub.status.busy": "2025-01-26T13:56:41.557041Z",
          "iopub.execute_input": "2025-01-26T13:56:41.557231Z",
          "iopub.status.idle": "2025-01-26T13:56:41.571030Z",
          "shell.execute_reply.started": "2025-01-26T13:56:41.557215Z",
          "shell.execute_reply": "2025-01-26T13:56:41.570323Z"
        },
        "outputId": "e4d6793d-f4db-4f7e-992d-c9f214079955"
      },
      "outputs": [
        {
          "name": "stdout",
          "text": "Something must've gone wrong in my brain\nGot your chemicals all in my veins\nFeeling all the highs, feeling all the pain\nLet go on the wheel, it’s the bullet lane\nNow I'm seeing red, not thinking straight\nBlurring all the lines, you intoxicate me\n\nJust like nicotine, heroin, morphine\nSuddenly, I'm a fiend and you're all I need\nAll I need, yeah, you're all I need\n\nIt's you, babe\nAnd I'm a sucker for the way that you move, babe\nAnd I could try to run, but it would be useless\nYou're to blame\nJust one hit of you, I knew I'll never be the same\nIt's you, babe\nAnd I'm a sucker for the way that you move, babe\nAnd I could try to run, but it would be useless\nYou're to blame\nJust one hit of you, I knew I'll never ever, ever be the same\n\nI'll never be the same\nI'll never be the same\nI'll never be the same\n\nSneaking in L.A. when the lights are low\nOff of one touch, I could overdose\nYou said, \"stop playing it safe\nGirl, I wanna see you lose control\"\n\nJust like nicotine, heroin, morphine\nSuddenly, I'm a fiend and you're all I need\nAll I need, yeah, you're all I need\n\nIt's you, babe\nAnd I'm a sucker for the way that you move, babe\nAnd I could try to run, but it would be useless\nYou're to blame\nJust one hit of you, I knew I'll never be the same\nIt's you, babe\nAnd I'm a sucker for the way that you move, babe\nAnd I could try to run, but it would be useless\nYou're to blame\nJust one hit of you, I knew I'll never ever, ever be the same\n\nI'll never be the same\nI'll never be the same\nI'll never be the same\n\nYou're in my blood, you're in my veins, you're in my head (I blame)\nYou're in my blood, you're in my veins, you're in my head (I'm sayin')\n\nI'm saying it's you, babe\nAnd I'm a sucker for the way that you move, babe\nAnd I could try to run, but it would be useless\nYou're to blame (you're to blame)\nJust one hit of you, I knew I'll never be the same (I'll never be the)\nIt's you, babe\nAnd I'm a sucker for the way that you move, babe\nAnd I could try to run, but it would be useless\nYou're to blame\nJust one hit of you, I knew I'll never ever, ever be the same\n",
          "output_type": "stream"
        }
      ],
      "execution_count": null
    },
    {
      "cell_type": "markdown",
      "source": [
        "Dividing each lyric into 2 halves to reduce input size"
      ],
      "metadata": {
        "id": "e3UumW7CWFRX"
      }
    },
    {
      "cell_type": "code",
      "source": [
        "import re\n",
        "\n",
        "def split_lyrics_flexibly(lyrics):\n",
        "\n",
        "    verses = [verse.strip() for verse in re.split(r'\\n\\s*\\n+', lyrics) if verse.strip()]\n",
        "\n",
        "    mid = len(verses) // 2\n",
        "\n",
        "    part1 = \"\\n\\n\".join(verses[:mid])\n",
        "    part2 = \"\\n\\n\".join(verses[mid:])\n",
        "\n",
        "    return part1, part2"
      ],
      "metadata": {
        "id": "McFaSrIl5oXL",
        "trusted": true,
        "execution": {
          "iopub.status.busy": "2025-01-26T13:56:41.571738Z",
          "iopub.execute_input": "2025-01-26T13:56:41.571923Z",
          "iopub.status.idle": "2025-01-26T13:56:41.583713Z",
          "shell.execute_reply.started": "2025-01-26T13:56:41.571907Z",
          "shell.execute_reply": "2025-01-26T13:56:41.583074Z"
        }
      },
      "outputs": [],
      "execution_count": null
    },
    {
      "cell_type": "code",
      "source": [
        "part1, part2 = split_lyrics_flexibly(all_lyrics[0])\n",
        "\n",
        "print(\"Part 1:\")\n",
        "print(part1)\n",
        "print(\"\\n---\\n\")\n",
        "print(\"Part 2:\")\n",
        "print(part2)"
      ],
      "metadata": {
        "id": "vqLzWZF_5tan",
        "trusted": true,
        "execution": {
          "iopub.status.busy": "2025-01-26T13:56:41.584439Z",
          "iopub.execute_input": "2025-01-26T13:56:41.584707Z",
          "iopub.status.idle": "2025-01-26T13:56:41.597980Z",
          "shell.execute_reply.started": "2025-01-26T13:56:41.584681Z",
          "shell.execute_reply": "2025-01-26T13:56:41.597408Z"
        },
        "outputId": "1e551333-c179-4bfc-b041-2b68c00c7b3f"
      },
      "outputs": [
        {
          "name": "stdout",
          "text": "Part 1:\nWritten by lindsey buckingham and christine mcvie.\nOh...\nPretty baby\nThis feeling i just can't hide\nYou got me mystified\n\nOh...\nPretty darling\nThis feeling is deep inside\nYou got me mystified\n\nThe light that shines around you\nIt blinds my eyes\nThere's a magic surrounds you\nTell me where your secret lies\n\n---\n\nPart 2:\nOh...\nPretty darling\nThis feeling is deep inside\nYou got me mystified\n\nOh...\nPretty baby\nThis feeling i just can't hide\nYou got me mystified\n\nYou got me mystified\nMystified\nMystified\nMystified\nMystified\n",
          "output_type": "stream"
        }
      ],
      "execution_count": null
    },
    {
      "cell_type": "code",
      "source": [
        "splitted_lyrics = []\n",
        "for lyrics in all_lyrics:\n",
        "  part1, part2 = split_lyrics_flexibly(lyrics)\n",
        "  splitted_lyrics.append(part1)\n",
        "  splitted_lyrics.append(part2)"
      ],
      "metadata": {
        "id": "_mW6O8Gh7y6M",
        "trusted": true,
        "execution": {
          "iopub.status.busy": "2025-01-26T13:56:41.598684Z",
          "iopub.execute_input": "2025-01-26T13:56:41.598915Z",
          "iopub.status.idle": "2025-01-26T13:56:41.616084Z",
          "shell.execute_reply.started": "2025-01-26T13:56:41.598896Z",
          "shell.execute_reply": "2025-01-26T13:56:41.615328Z"
        }
      },
      "outputs": [],
      "execution_count": null
    },
    {
      "cell_type": "code",
      "source": [
        "print(len(splitted_lyrics))"
      ],
      "metadata": {
        "id": "Kw3i35168FnY",
        "trusted": true,
        "execution": {
          "iopub.status.busy": "2025-01-26T13:56:41.616849Z",
          "iopub.execute_input": "2025-01-26T13:56:41.617102Z",
          "iopub.status.idle": "2025-01-26T13:56:41.628812Z",
          "shell.execute_reply.started": "2025-01-26T13:56:41.617076Z",
          "shell.execute_reply": "2025-01-26T13:56:41.628208Z"
        },
        "outputId": "b977f27b-8193-4ef9-d194-d9d25151c86d"
      },
      "outputs": [
        {
          "name": "stdout",
          "text": "1154\n",
          "output_type": "stream"
        }
      ],
      "execution_count": null
    },
    {
      "cell_type": "code",
      "source": [
        "print(splitted_lyrics[0])"
      ],
      "metadata": {
        "id": "M8VwvZ238TA3",
        "trusted": true,
        "execution": {
          "iopub.status.busy": "2025-01-26T13:56:41.629567Z",
          "iopub.execute_input": "2025-01-26T13:56:41.629794Z",
          "iopub.status.idle": "2025-01-26T13:56:41.642415Z",
          "shell.execute_reply.started": "2025-01-26T13:56:41.629775Z",
          "shell.execute_reply": "2025-01-26T13:56:41.641601Z"
        },
        "outputId": "5f532c8b-5b5a-4bc6-8fbd-ae95fe5e001f"
      },
      "outputs": [
        {
          "name": "stdout",
          "text": "Written by lindsey buckingham and christine mcvie.\nOh...\nPretty baby\nThis feeling i just can't hide\nYou got me mystified\n\nOh...\nPretty darling\nThis feeling is deep inside\nYou got me mystified\n\nThe light that shines around you\nIt blinds my eyes\nThere's a magic surrounds you\nTell me where your secret lies\n",
          "output_type": "stream"
        }
      ],
      "execution_count": null
    },
    {
      "cell_type": "code",
      "source": [
        "splitted_lyrics = list(set(splitted_lyrics))"
      ],
      "metadata": {
        "id": "QHSZXe4EteVd",
        "trusted": true,
        "execution": {
          "iopub.status.busy": "2025-01-26T13:56:41.643319Z",
          "iopub.execute_input": "2025-01-26T13:56:41.643558Z",
          "iopub.status.idle": "2025-01-26T13:56:41.654427Z",
          "shell.execute_reply.started": "2025-01-26T13:56:41.643540Z",
          "shell.execute_reply": "2025-01-26T13:56:41.653712Z"
        }
      },
      "outputs": [],
      "execution_count": null
    },
    {
      "cell_type": "code",
      "source": [
        "len(splitted_lyrics)"
      ],
      "metadata": {
        "id": "1Cvy0qfLteVd",
        "trusted": true,
        "execution": {
          "iopub.status.busy": "2025-01-26T13:56:41.655261Z",
          "iopub.execute_input": "2025-01-26T13:56:41.655550Z",
          "iopub.status.idle": "2025-01-26T13:56:41.668036Z",
          "shell.execute_reply.started": "2025-01-26T13:56:41.655524Z",
          "shell.execute_reply": "2025-01-26T13:56:41.667395Z"
        },
        "outputId": "a6ff77f4-e9a4-4e74-f80e-f04bc92d7c68"
      },
      "outputs": [
        {
          "execution_count": 40,
          "output_type": "execute_result",
          "data": {
            "text/plain": "1142"
          },
          "metadata": {}
        }
      ],
      "execution_count": null
    },
    {
      "cell_type": "code",
      "source": [
        "import json"
      ],
      "metadata": {
        "id": "6yLi6dSycqCb",
        "trusted": true,
        "execution": {
          "iopub.status.busy": "2025-01-26T13:56:41.668684Z",
          "iopub.execute_input": "2025-01-26T13:56:41.668947Z",
          "iopub.status.idle": "2025-01-26T13:56:41.679368Z",
          "shell.execute_reply.started": "2025-01-26T13:56:41.668925Z",
          "shell.execute_reply": "2025-01-26T13:56:41.678573Z"
        }
      },
      "outputs": [],
      "execution_count": null
    },
    {
      "cell_type": "code",
      "source": [
        "with open(\"lyrics.json\", \"w\") as file:\n",
        "    json.dump(splitted_lyrics, file, indent=4)\n",
        "\n",
        "print(\"Lyrics saved to lyrics.json\")"
      ],
      "metadata": {
        "id": "U5gxwzGCteVe",
        "trusted": true,
        "execution": {
          "iopub.status.busy": "2025-01-26T13:56:41.680173Z",
          "iopub.execute_input": "2025-01-26T13:56:41.680459Z",
          "iopub.status.idle": "2025-01-26T13:56:41.700380Z",
          "shell.execute_reply.started": "2025-01-26T13:56:41.680433Z",
          "shell.execute_reply": "2025-01-26T13:56:41.699822Z"
        },
        "outputId": "73ec5a5f-2ede-451d-b92c-ed0c0cda431b"
      },
      "outputs": [
        {
          "name": "stdout",
          "text": "Lyrics saved to lyrics.json\n",
          "output_type": "stream"
        }
      ],
      "execution_count": null
    },
    {
      "cell_type": "code",
      "source": [
        "with open(\"lyrics.json\", \"r\") as f:\n",
        "    data = json.load(f)\n",
        "data = [lyrics for lyrics in data if len(lyrics.strip().split())]"
      ],
      "metadata": {
        "id": "Xv7jswSmteVe",
        "trusted": true,
        "execution": {
          "iopub.status.busy": "2025-01-26T13:56:41.701050Z",
          "iopub.execute_input": "2025-01-26T13:56:41.701243Z",
          "iopub.status.idle": "2025-01-26T13:56:41.719942Z",
          "shell.execute_reply.started": "2025-01-26T13:56:41.701217Z",
          "shell.execute_reply": "2025-01-26T13:56:41.719417Z"
        }
      },
      "outputs": [],
      "execution_count": null
    },
    {
      "cell_type": "code",
      "source": [
        "print(len(data))"
      ],
      "metadata": {
        "id": "3IMZkk47teVe",
        "trusted": true,
        "execution": {
          "iopub.status.busy": "2025-01-26T13:56:41.720590Z",
          "iopub.execute_input": "2025-01-26T13:56:41.720763Z",
          "iopub.status.idle": "2025-01-26T13:56:41.724135Z",
          "shell.execute_reply.started": "2025-01-26T13:56:41.720748Z",
          "shell.execute_reply": "2025-01-26T13:56:41.723429Z"
        },
        "outputId": "c2c9f1d3-0eaa-4014-a742-f06c3f3f588e"
      },
      "outputs": [
        {
          "name": "stdout",
          "text": "1141\n",
          "output_type": "stream"
        }
      ],
      "execution_count": null
    },
    {
      "cell_type": "code",
      "source": [
        "!pip install transformers"
      ],
      "metadata": {
        "id": "F8jbxa5xMW7j",
        "trusted": true,
        "execution": {
          "iopub.status.busy": "2025-01-26T13:56:41.724879Z",
          "iopub.execute_input": "2025-01-26T13:56:41.725148Z",
          "iopub.status.idle": "2025-01-26T13:56:44.997283Z",
          "shell.execute_reply.started": "2025-01-26T13:56:41.725118Z",
          "shell.execute_reply": "2025-01-26T13:56:44.996432Z"
        },
        "outputId": "7f340332-faff-4b33-e3b7-425f240948a5"
      },
      "outputs": [
        {
          "name": "stdout",
          "text": "Requirement already satisfied: transformers in /usr/local/lib/python3.10/dist-packages (4.47.0)\nRequirement already satisfied: filelock in /usr/local/lib/python3.10/dist-packages (from transformers) (3.16.1)\nRequirement already satisfied: huggingface-hub<1.0,>=0.24.0 in /usr/local/lib/python3.10/dist-packages (from transformers) (0.27.0)\nRequirement already satisfied: numpy>=1.17 in /usr/local/lib/python3.10/dist-packages (from transformers) (1.26.4)\nRequirement already satisfied: packaging>=20.0 in /usr/local/lib/python3.10/dist-packages (from transformers) (24.2)\nRequirement already satisfied: pyyaml>=5.1 in /usr/local/lib/python3.10/dist-packages (from transformers) (6.0.2)\nRequirement already satisfied: regex!=2019.12.17 in /usr/local/lib/python3.10/dist-packages (from transformers) (2024.11.6)\nRequirement already satisfied: requests in /usr/local/lib/python3.10/dist-packages (from transformers) (2.32.3)\nRequirement already satisfied: tokenizers<0.22,>=0.21 in /usr/local/lib/python3.10/dist-packages (from transformers) (0.21.0)\nRequirement already satisfied: safetensors>=0.4.1 in /usr/local/lib/python3.10/dist-packages (from transformers) (0.4.5)\nRequirement already satisfied: tqdm>=4.27 in /usr/local/lib/python3.10/dist-packages (from transformers) (4.67.1)\nRequirement already satisfied: fsspec>=2023.5.0 in /usr/local/lib/python3.10/dist-packages (from huggingface-hub<1.0,>=0.24.0->transformers) (2024.9.0)\nRequirement already satisfied: typing-extensions>=3.7.4.3 in /usr/local/lib/python3.10/dist-packages (from huggingface-hub<1.0,>=0.24.0->transformers) (4.12.2)\nRequirement already satisfied: mkl_fft in /usr/local/lib/python3.10/dist-packages (from numpy>=1.17->transformers) (1.3.8)\nRequirement already satisfied: mkl_random in /usr/local/lib/python3.10/dist-packages (from numpy>=1.17->transformers) (1.2.4)\nRequirement already satisfied: mkl_umath in /usr/local/lib/python3.10/dist-packages (from numpy>=1.17->transformers) (0.1.1)\nRequirement already satisfied: mkl in /usr/local/lib/python3.10/dist-packages (from numpy>=1.17->transformers) (2025.0.1)\nRequirement already satisfied: tbb4py in /usr/local/lib/python3.10/dist-packages (from numpy>=1.17->transformers) (2022.0.0)\nRequirement already satisfied: mkl-service in /usr/local/lib/python3.10/dist-packages (from numpy>=1.17->transformers) (2.4.1)\nRequirement already satisfied: charset-normalizer<4,>=2 in /usr/local/lib/python3.10/dist-packages (from requests->transformers) (3.4.0)\nRequirement already satisfied: idna<4,>=2.5 in /usr/local/lib/python3.10/dist-packages (from requests->transformers) (3.10)\nRequirement already satisfied: urllib3<3,>=1.21.1 in /usr/local/lib/python3.10/dist-packages (from requests->transformers) (2.2.3)\nRequirement already satisfied: certifi>=2017.4.17 in /usr/local/lib/python3.10/dist-packages (from requests->transformers) (2024.12.14)\nRequirement already satisfied: intel-openmp>=2024 in /usr/local/lib/python3.10/dist-packages (from mkl->numpy>=1.17->transformers) (2024.2.0)\nRequirement already satisfied: tbb==2022.* in /usr/local/lib/python3.10/dist-packages (from mkl->numpy>=1.17->transformers) (2022.0.0)\nRequirement already satisfied: tcmlib==1.* in /usr/local/lib/python3.10/dist-packages (from tbb==2022.*->mkl->numpy>=1.17->transformers) (1.2.0)\nRequirement already satisfied: intel-cmplr-lib-rt in /usr/local/lib/python3.10/dist-packages (from mkl_umath->numpy>=1.17->transformers) (2024.2.0)\nRequirement already satisfied: intel-cmplr-lib-ur==2024.2.0 in /usr/local/lib/python3.10/dist-packages (from intel-openmp>=2024->mkl->numpy>=1.17->transformers) (2024.2.0)\n",
          "output_type": "stream"
        }
      ],
      "execution_count": null
    },
    {
      "cell_type": "code",
      "source": [
        "from transformers import GPT2Tokenizer"
      ],
      "metadata": {
        "id": "A9OkzDj2Mc-D",
        "trusted": true,
        "execution": {
          "iopub.status.busy": "2025-01-26T13:56:44.998294Z",
          "iopub.execute_input": "2025-01-26T13:56:44.998635Z",
          "iopub.status.idle": "2025-01-26T13:56:49.343805Z",
          "shell.execute_reply.started": "2025-01-26T13:56:44.998610Z",
          "shell.execute_reply": "2025-01-26T13:56:49.343109Z"
        }
      },
      "outputs": [],
      "execution_count": null
    },
    {
      "cell_type": "code",
      "source": [
        "tokenizer = GPT2Tokenizer.from_pretrained(\"gpt2\")"
      ],
      "metadata": {
        "id": "KGuM1RZNMicn",
        "trusted": true,
        "execution": {
          "iopub.status.busy": "2025-01-26T13:56:49.344629Z",
          "iopub.execute_input": "2025-01-26T13:56:49.345002Z",
          "iopub.status.idle": "2025-01-26T13:56:53.741020Z",
          "shell.execute_reply.started": "2025-01-26T13:56:49.344983Z",
          "shell.execute_reply": "2025-01-26T13:56:53.740323Z"
        },
        "outputId": "c6f97f6d-8428-42eb-c59e-0a9e054f142f",
        "colab": {
          "referenced_widgets": [
            "f181164935dc4f0abea199a2cf5cd73c",
            "4933c702232b4434ac9b37992520dba3",
            "7d616fac21d64060903cfaf0d25aef1a",
            "2dd4284787a2425885f08966880a970d",
            "ba5bb4715fc940039e0ac030544e3a9c"
          ]
        }
      },
      "outputs": [
        {
          "output_type": "display_data",
          "data": {
            "text/plain": "tokenizer_config.json:   0%|          | 0.00/26.0 [00:00<?, ?B/s]",
            "application/vnd.jupyter.widget-view+json": {
              "version_major": 2,
              "version_minor": 0,
              "model_id": "f181164935dc4f0abea199a2cf5cd73c"
            }
          },
          "metadata": {}
        },
        {
          "output_type": "display_data",
          "data": {
            "text/plain": "vocab.json:   0%|          | 0.00/1.04M [00:00<?, ?B/s]",
            "application/vnd.jupyter.widget-view+json": {
              "version_major": 2,
              "version_minor": 0,
              "model_id": "4933c702232b4434ac9b37992520dba3"
            }
          },
          "metadata": {}
        },
        {
          "output_type": "display_data",
          "data": {
            "text/plain": "merges.txt:   0%|          | 0.00/456k [00:00<?, ?B/s]",
            "application/vnd.jupyter.widget-view+json": {
              "version_major": 2,
              "version_minor": 0,
              "model_id": "7d616fac21d64060903cfaf0d25aef1a"
            }
          },
          "metadata": {}
        },
        {
          "output_type": "display_data",
          "data": {
            "text/plain": "tokenizer.json:   0%|          | 0.00/1.36M [00:00<?, ?B/s]",
            "application/vnd.jupyter.widget-view+json": {
              "version_major": 2,
              "version_minor": 0,
              "model_id": "2dd4284787a2425885f08966880a970d"
            }
          },
          "metadata": {}
        },
        {
          "output_type": "display_data",
          "data": {
            "text/plain": "config.json:   0%|          | 0.00/665 [00:00<?, ?B/s]",
            "application/vnd.jupyter.widget-view+json": {
              "version_major": 2,
              "version_minor": 0,
              "model_id": "ba5bb4715fc940039e0ac030544e3a9c"
            }
          },
          "metadata": {}
        }
      ],
      "execution_count": null
    },
    {
      "cell_type": "code",
      "source": [
        "tokenized_lengths = [len(tokenizer.encode(lyrics)) for lyrics in data]"
      ],
      "metadata": {
        "id": "zet4w8lVMkZj",
        "trusted": true,
        "execution": {
          "iopub.status.busy": "2025-01-26T13:56:53.741778Z",
          "iopub.execute_input": "2025-01-26T13:56:53.742342Z",
          "iopub.status.idle": "2025-01-26T13:56:55.688364Z",
          "shell.execute_reply.started": "2025-01-26T13:56:53.742316Z",
          "shell.execute_reply": "2025-01-26T13:56:55.687682Z"
        },
        "outputId": "ca4c26db-02c4-4ba2-bf3e-a80fdadd06b7"
      },
      "outputs": [
        {
          "name": "stderr",
          "text": "Token indices sequence length is longer than the specified maximum sequence length for this model (1058 > 1024). Running this sequence through the model will result in indexing errors\n",
          "output_type": "stream"
        }
      ],
      "execution_count": null
    },
    {
      "cell_type": "code",
      "source": [
        "MAX_LENGTH = 1024\n",
        "\n",
        "# Count sequences exceeding the max length\n",
        "long_sequences = sum(len(tokenizer.encode(poem)) > MAX_LENGTH for poem in data)\n",
        "\n",
        "print(f\"Number of sequences longer than {MAX_LENGTH} tokens: {long_sequences}\")\n"
      ],
      "metadata": {
        "id": "UnP2SFzatHog",
        "trusted": true,
        "execution": {
          "iopub.status.busy": "2025-01-26T13:56:55.689195Z",
          "iopub.execute_input": "2025-01-26T13:56:55.689421Z",
          "iopub.status.idle": "2025-01-26T13:56:57.374004Z",
          "shell.execute_reply.started": "2025-01-26T13:56:55.689402Z",
          "shell.execute_reply": "2025-01-26T13:56:57.373301Z"
        },
        "outputId": "94ac88a9-26f9-465e-c6cf-db928f7fcbba"
      },
      "outputs": [
        {
          "name": "stdout",
          "text": "Number of sequences longer than 1024 tokens: 2\n",
          "output_type": "stream"
        }
      ],
      "execution_count": null
    },
    {
      "cell_type": "code",
      "source": [
        "MAX_LENGTH = 1024\n",
        "\n",
        "# Remove sequences exceeding the max length\n",
        "data = [poem for poem in data if len(tokenizer.encode(poem)) <= MAX_LENGTH]\n",
        "\n",
        "print(f\"Remaining sequences: {len(data)}\")\n"
      ],
      "metadata": {
        "id": "GVVDihhQsacp",
        "trusted": true,
        "execution": {
          "iopub.status.busy": "2025-01-26T13:56:57.374725Z",
          "iopub.execute_input": "2025-01-26T13:56:57.374982Z",
          "iopub.status.idle": "2025-01-26T13:56:59.043160Z",
          "shell.execute_reply.started": "2025-01-26T13:56:57.374950Z",
          "shell.execute_reply": "2025-01-26T13:56:59.042452Z"
        },
        "outputId": "771beea3-ccf6-455a-b4d0-cc81d4e8658e"
      },
      "outputs": [
        {
          "name": "stdout",
          "text": "Remaining sequences: 1139\n",
          "output_type": "stream"
        }
      ],
      "execution_count": null
    },
    {
      "cell_type": "code",
      "source": [
        "tokenized_lengths = [len(tokenizer.encode(lyrics)) for lyrics in data]"
      ],
      "metadata": {
        "id": "1f8Npj7Qse0a",
        "trusted": true,
        "execution": {
          "iopub.status.busy": "2025-01-26T13:56:59.044023Z",
          "iopub.execute_input": "2025-01-26T13:56:59.044362Z",
          "iopub.status.idle": "2025-01-26T13:57:00.771517Z",
          "shell.execute_reply.started": "2025-01-26T13:56:59.044312Z",
          "shell.execute_reply": "2025-01-26T13:57:00.770588Z"
        }
      },
      "outputs": [],
      "execution_count": null
    },
    {
      "cell_type": "code",
      "source": [
        "tokenized_lengths = np.array(tokenized_lengths)\n",
        "\n",
        "# Calculate percentiles and other statistics\n",
        "median = np.percentile(tokenized_lengths, 50)  # 50th percentile (median)\n",
        "percentile_95 = np.percentile(tokenized_lengths, 95)  # 95th percentile\n",
        "percentile_99 = np.percentile(tokenized_lengths, 99)  # 99th percentile\n",
        "percentile_10 = np.percentile(tokenized_lengths, 10)  # 99th percentile\n",
        "mean = np.mean(tokenized_lengths)  # Mean length\n",
        "std_dev = np.std(tokenized_lengths)  # Standard deviation\n",
        "\n",
        "# Print the results\n",
        "print(f\"Median (50th percentile): {median}\")\n",
        "print(f\"10th percentile: {percentile_10}\")\n",
        "print(f\"95th percentile: {percentile_95}\")\n",
        "print(f\"99th percentile: {percentile_99}\")\n",
        "print(f\"Mean: {mean}\")\n",
        "print(f\"Standard deviation: {std_dev}\")"
      ],
      "metadata": {
        "id": "WCBLD-4cpJBu",
        "trusted": true,
        "execution": {
          "iopub.status.busy": "2025-01-26T13:57:00.772499Z",
          "iopub.execute_input": "2025-01-26T13:57:00.772708Z",
          "iopub.status.idle": "2025-01-26T13:57:00.788176Z",
          "shell.execute_reply.started": "2025-01-26T13:57:00.772690Z",
          "shell.execute_reply": "2025-01-26T13:57:00.786817Z"
        },
        "outputId": "46bf8187-7e98-47bf-ddc8-3ffcc25e529a"
      },
      "outputs": [
        {
          "name": "stdout",
          "text": "Median (50th percentile): 231.0\n10th percentile: 128.0\n95th percentile: 486.0999999999999\n99th percentile: 598.4799999999996\nMean: 254.04302019315188\nStandard deviation: 119.81174468018732\n",
          "output_type": "stream"
        }
      ],
      "execution_count": null
    },
    {
      "cell_type": "code",
      "source": [
        "tokenizer.add_special_tokens({'pad_token': '[PAD]','bos_token': '[BOS]','eos_token': '[EOS]'})"
      ],
      "metadata": {
        "id": "Zq6L4h8BtY_9",
        "trusted": true,
        "execution": {
          "iopub.status.busy": "2025-01-26T13:57:00.789089Z",
          "iopub.execute_input": "2025-01-26T13:57:00.789404Z",
          "iopub.status.idle": "2025-01-26T13:57:00.809544Z",
          "shell.execute_reply.started": "2025-01-26T13:57:00.789369Z",
          "shell.execute_reply": "2025-01-26T13:57:00.808626Z"
        },
        "outputId": "16ca4194-69f2-47f5-ea4a-eaaee8e8a1c9"
      },
      "outputs": [
        {
          "execution_count": 53,
          "output_type": "execute_result",
          "data": {
            "text/plain": "3"
          },
          "metadata": {}
        }
      ],
      "execution_count": null
    },
    {
      "cell_type": "code",
      "source": [
        "encoded = tokenizer.encode(splitted_lyrics , padding = 'max_length' , truncation= True , max_length = 487)"
      ],
      "metadata": {
        "id": "kh4kv5_zqpcp",
        "trusted": true,
        "execution": {
          "iopub.status.busy": "2025-01-26T13:57:00.810442Z",
          "iopub.execute_input": "2025-01-26T13:57:00.810734Z",
          "iopub.status.idle": "2025-01-26T13:57:00.824947Z",
          "shell.execute_reply.started": "2025-01-26T13:57:00.810704Z",
          "shell.execute_reply": "2025-01-26T13:57:00.824119Z"
        }
      },
      "outputs": [],
      "execution_count": null
    },
    {
      "cell_type": "code",
      "source": [
        "encoded = tokenizer(splitted_lyrics, padding = 'max_length', truncation = True , max_length = 487, return_tensors = 'pt')"
      ],
      "metadata": {
        "id": "9ZiDTjj4um5l",
        "trusted": true,
        "execution": {
          "iopub.status.busy": "2025-01-26T13:57:00.825759Z",
          "iopub.execute_input": "2025-01-26T13:57:00.825991Z",
          "iopub.status.idle": "2025-01-26T13:57:02.689903Z",
          "shell.execute_reply.started": "2025-01-26T13:57:00.825970Z",
          "shell.execute_reply": "2025-01-26T13:57:02.688978Z"
        }
      },
      "outputs": [],
      "execution_count": null
    },
    {
      "cell_type": "code",
      "source": [
        "encoded"
      ],
      "metadata": {
        "id": "ciCXgyzSvAdA",
        "trusted": true,
        "execution": {
          "iopub.status.busy": "2025-01-26T13:57:02.690898Z",
          "iopub.execute_input": "2025-01-26T13:57:02.691139Z",
          "iopub.status.idle": "2025-01-26T13:57:02.736207Z",
          "shell.execute_reply.started": "2025-01-26T13:57:02.691119Z",
          "shell.execute_reply": "2025-01-26T13:57:02.735592Z"
        },
        "outputId": "1a7f4a2a-13d5-43ec-f6dd-a70b35122cd0"
      },
      "outputs": [
        {
          "execution_count": 56,
          "output_type": "execute_result",
          "data": {
            "text/plain": "{'input_ids': tensor([[50257, 50257, 50257,  ..., 50257, 50257, 50257],\n        [ 5377,     6,   261,  ..., 50257, 50257, 50257],\n        [ 1212, 12199,    11,  ..., 50257, 50257, 50257],\n        ...,\n        [ 2396,   881,  1204,  ..., 50257, 50257, 50257],\n        [ 1026,  1718,   514,  ..., 50257, 50257, 50257],\n        [ 6214,   606,  6155,  ..., 50257, 50257, 50257]]), 'attention_mask': tensor([[0, 0, 0,  ..., 0, 0, 0],\n        [1, 1, 1,  ..., 0, 0, 0],\n        [1, 1, 1,  ..., 0, 0, 0],\n        ...,\n        [1, 1, 1,  ..., 0, 0, 0],\n        [1, 1, 1,  ..., 0, 0, 0],\n        [1, 1, 1,  ..., 0, 0, 0]])}"
          },
          "metadata": {}
        }
      ],
      "execution_count": null
    },
    {
      "cell_type": "code",
      "source": [
        "import torch"
      ],
      "metadata": {
        "id": "ZcI8hLRVxD7Q",
        "trusted": true,
        "execution": {
          "iopub.status.busy": "2025-01-26T13:57:02.737107Z",
          "iopub.execute_input": "2025-01-26T13:57:02.737428Z",
          "iopub.status.idle": "2025-01-26T13:57:02.740593Z",
          "shell.execute_reply.started": "2025-01-26T13:57:02.737399Z",
          "shell.execute_reply": "2025-01-26T13:57:02.739891Z"
        }
      },
      "outputs": [],
      "execution_count": null
    },
    {
      "cell_type": "code",
      "source": [
        "second_lyrics_ids = encoded['input_ids'][1].tolist()  # Convert tensor to list\n",
        "\n",
        "# Decode each token individually to see what it corresponds to\n",
        "tokens_and_words = [(token_id, tokenizer.decode([token_id])) for token_id in second_lyrics_ids]\n",
        "\n",
        "# Print each token and its decoded word\n",
        "for token_id, word in tokens_and_words:\n",
        "    print(f\"Token ID: {token_id}, Word: '{word}'\")"
      ],
      "metadata": {
        "id": "7RTuBtcUwRyl",
        "trusted": true,
        "execution": {
          "iopub.status.busy": "2025-01-26T13:57:02.741424Z",
          "iopub.execute_input": "2025-01-26T13:57:02.741630Z",
          "iopub.status.idle": "2025-01-26T13:57:13.711807Z",
          "shell.execute_reply.started": "2025-01-26T13:57:02.741593Z",
          "shell.execute_reply": "2025-01-26T13:57:13.710899Z"
        },
        "outputId": "dd9c691e-b158-4fc8-b3c1-3004a5719481"
      },
      "outputs": [
        {
          "name": "stdout",
          "text": "Token ID: 5377, Word: 'Com'\nToken ID: 6, Word: '''\nToken ID: 261, Word: 'on'\nToken ID: 2576, Word: ' girl'\nToken ID: 11, Word: ','\nToken ID: 401, Word: ' com'\nToken ID: 6, Word: '''\nToken ID: 261, Word: 'on'\nToken ID: 2576, Word: ' girl'\nToken ID: 11, Word: ','\nToken ID: 401, Word: ' com'\nToken ID: 6, Word: '''\nToken ID: 261, Word: 'on'\nToken ID: 2576, Word: ' girl'\nToken ID: 11, Word: ','\nToken ID: 17207, Word: ' hey'\nToken ID: 0, Word: '!'\n'oken ID: 201, Word: '\nToken ID: 198, Word: '\n'\nToken ID: 5377, Word: 'Com'\nToken ID: 6, Word: '''\nToken ID: 261, Word: 'on'\nToken ID: 2576, Word: ' girl'\nToken ID: 11, Word: ','\nToken ID: 401, Word: ' com'\nToken ID: 6, Word: '''\nToken ID: 261, Word: 'on'\nToken ID: 2576, Word: ' girl'\nToken ID: 11, Word: ','\nToken ID: 401, Word: ' com'\nToken ID: 6, Word: '''\nToken ID: 261, Word: 'on'\nToken ID: 2576, Word: ' girl'\nToken ID: 11, Word: ','\nToken ID: 17207, Word: ' hey'\nToken ID: 0, Word: '!'\nToken ID: 198, Word: '\n'\nToken ID: 198, Word: '\n'\nToken ID: 36534, Word: 'Baby'\nToken ID: 7430, Word: ' Girl'\nToken ID: 11, Word: ','\nToken ID: 345, Word: ' you'\nToken ID: 760, Word: ' know'\nToken ID: 326, Word: ' that'\nToken ID: 314, Word: ' I'\nToken ID: 655, Word: ' just'\nToken ID: 765, Word: ' want'\nToken ID: 284, Word: ' to'\nToken ID: 1011, Word: ' take'\nToken ID: 345, Word: ' you'\nToken ID: 284, Word: ' to'\nToken ID: 262, Word: ' the'\nToken ID: 4136, Word: ' spot'\nToken ID: 11, Word: ','\n'oken ID: 201, Word: '\nToken ID: 198, Word: '\n'\nToken ID: 5211, Word: 'Do'\nToken ID: 1243, Word: ' things'\nToken ID: 284, Word: ' to'\nToken ID: 345, Word: ' you'\nToken ID: 326, Word: ' that'\nToken ID: 389, Word: ' are'\nToken ID: 4753, Word: ' definitely'\nToken ID: 8066, Word: ' gonna'\nToken ID: 651, Word: ' get'\nToken ID: 21349, Word: ' ya'\nToken ID: 3024, Word: ' hot'\nToken ID: 11, Word: ','\n'oken ID: 201, Word: '\nToken ID: 198, Word: '\n'\nToken ID: 40, Word: 'I'\nToken ID: 1842, Word: ' love'\nToken ID: 703, Word: ' how'\nToken ID: 21349, Word: ' ya'\nToken ID: 13279, Word: ' shake'\nToken ID: 326, Word: ' that'\nToken ID: 1310, Word: ' little'\nToken ID: 6297, Word: ' boot'\nToken ID: 88, Word: 'y'\nToken ID: 1088, Word: ' around'\nToken ID: 262, Word: ' the'\nToken ID: 3430, Word: ' club'\nToken ID: 11, Word: ','\n'oken ID: 201, Word: '\nToken ID: 198, Word: '\n'\nToken ID: 40, Word: 'I'\nToken ID: 655, Word: ' just'\nToken ID: 18869, Word: ' wanna'\nToken ID: 1210, Word: ' turn'\nToken ID: 345, Word: ' you'\nToken ID: 290, Word: ' and'\nToken ID: 502, Word: ' me'\nToken ID: 656, Word: ' into'\nToken ID: 281, Word: ' an'\nToken ID: 357, Word: ' ('\nToken ID: 385, Word: 'us'\nToken ID: 8, Word: ')'\n'oken ID: 201, Word: '\nToken ID: 198, Word: '\n'\nToken ID: 28718, Word: 'Hom'\nToken ID: 494, Word: 'ie'\nToken ID: 18869, Word: ' wanna'\nToken ID: 2151, Word: ' party'\nToken ID: 475, Word: ' but'\nToken ID: 345, Word: ' you'\nToken ID: 760, Word: ' know'\nToken ID: 8168, Word: ' nobody'\nToken ID: 2073, Word: ' else'\nToken ID: 460, Word: ' can'\nToken ID: 357, Word: ' ('\nToken ID: 4598, Word: 'do'\nToken ID: 8, Word: ')'\n'oken ID: 201, Word: '\nToken ID: 198, Word: '\n'\nToken ID: 1135, Word: 'We'\nToken ID: 460, Word: ' can'\nToken ID: 466, Word: ' do'\nToken ID: 4232, Word: ' whatever'\nToken ID: 11, Word: ','\nToken ID: 1394, Word: ' keep'\nToken ID: 340, Word: ' it'\nToken ID: 1171, Word: ' public'\nToken ID: 393, Word: ' or'\nToken ID: 611, Word: ' if'\nToken ID: 357, Word: ' ('\nToken ID: 5832, Word: 'you'\nToken ID: 8, Word: ')'\n'oken ID: 201, Word: '\nToken ID: 198, Word: '\n'\nToken ID: 54, Word: 'W'\nToken ID: 7697, Word: 'anna'\nToken ID: 1394, Word: ' keep'\nToken ID: 340, Word: ' it'\nToken ID: 2839, Word: ' private'\nToken ID: 290, Word: ' and'\nToken ID: 23557, Word: ' undercover'\nToken ID: 326, Word: ' that'\nToken ID: 338, Word: ''s'\nToken ID: 357, Word: ' ('\nToken ID: 24494, Word: 'cool'\nToken ID: 8, Word: ')'\nToken ID: 220, Word: ' '\n'oken ID: 201, Word: '\nToken ID: 198, Word: '\n'\nToken ID: 40, Word: 'I'\nToken ID: 655, Word: ' just'\nToken ID: 18869, Word: ' wanna'\nToken ID: 2652, Word: ' stay'\nToken ID: 739, Word: ' under'\nToken ID: 262, Word: ' the'\nToken ID: 8698, Word: ' covers'\nToken ID: 351, Word: ' with'\nToken ID: 357, Word: ' ('\nToken ID: 5832, Word: 'you'\nToken ID: 8, Word: ')'\nToken ID: 198, Word: '\n'\nToken ID: 198, Word: '\n'\nToken ID: 3844, Word: 'Now'\nToken ID: 314, Word: ' I'\nToken ID: 760, Word: ' know'\nToken ID: 326, Word: ' that'\nToken ID: 345, Word: ' you'\nToken ID: 765, Word: ' want'\nToken ID: 340, Word: ' it'\nToken ID: 11, Word: ','\n'oken ID: 201, Word: '\nToken ID: 198, Word: '\n'\nToken ID: 1639, Word: 'You'\nToken ID: 1053, Word: ''ve'\nToken ID: 8203, Word: ' indicated'\nToken ID: 11, Word: ','\n'oken ID: 201, Word: '\nToken ID: 198, Word: '\n'\nToken ID: 1026, Word: 'It'\nToken ID: 338, Word: ''s'\nToken ID: 3489, Word: ' obvious'\nToken ID: 314, Word: ' I'\nToken ID: 761, Word: ' need'\nToken ID: 345, Word: ' you'\nToken ID: 11, Word: ','\n'oken ID: 201, Word: '\nToken ID: 198, Word: '\n'\nToken ID: 5703, Word: 'Just'\nToken ID: 787, Word: ' make'\nToken ID: 257, Word: ' a'\nToken ID: 2551, Word: ' decision'\nToken ID: 11, Word: ','\n'oken ID: 201, Word: '\nToken ID: 198, Word: '\n'\nToken ID: 6, Word: '''\nToken ID: 33, Word: 'B'\nToken ID: 448, Word: 'out'\nToken ID: 644, Word: ' what'\nToken ID: 314, Word: ' I'\nToken ID: 17753, Word: ' gotta'\nToken ID: 910, Word: ' say'\nToken ID: 11, Word: ','\n'oken ID: 201, Word: '\nToken ID: 198, Word: '\n'\nToken ID: 24446, Word: 'Tell'\nToken ID: 502, Word: ' me'\nToken ID: 644, Word: ' what'\nToken ID: 314, Word: ' I'\nToken ID: 17753, Word: ' gotta'\nToken ID: 910, Word: ' say'\nToken ID: 11, Word: ','\n'oken ID: 201, Word: '\nToken ID: 198, Word: '\n'\nToken ID: 24446, Word: 'Tell'\nToken ID: 502, Word: ' me'\nToken ID: 644, Word: ' what'\nToken ID: 314, Word: ' I'\nToken ID: 17753, Word: ' gotta'\nToken ID: 910, Word: ' say'\nToken ID: 11, Word: ','\n'oken ID: 201, Word: '\nToken ID: 198, Word: '\n'\nToken ID: 2514, Word: 'To'\nToken ID: 1011, Word: ' take'\nToken ID: 345, Word: ' you'\nToken ID: 1497, Word: ' away'\nToken ID: 351, Word: ' with'\nToken ID: 502, Word: ' me'\nToken ID: 11, Word: ','\n'oken ID: 201, Word: '\nToken ID: 198, Word: '\n'\nToken ID: 2514, Word: 'To'\nToken ID: 1011, Word: ' take'\nToken ID: 345, Word: ' you'\nToken ID: 1497, Word: ' away'\nToken ID: 351, Word: ' with'\nToken ID: 502, Word: ' me'\nToken ID: 11, Word: ','\n'oken ID: 201, Word: '\nToken ID: 198, Word: '\n'\nToken ID: 2514, Word: 'To'\nToken ID: 1011, Word: ' take'\nToken ID: 345, Word: ' you'\nToken ID: 1497, Word: ' away'\nToken ID: 351, Word: ' with'\nToken ID: 502, Word: ' me'\nToken ID: 11, Word: ','\n'oken ID: 201, Word: '\nToken ID: 198, Word: '\n'\nToken ID: 2514, Word: 'To'\nToken ID: 1011, Word: ' take'\nToken ID: 345, Word: ' you'\nToken ID: 1497, Word: ' away'\nToken ID: 351, Word: ' with'\nToken ID: 502, Word: ' me'\nToken ID: 11, Word: ','\n'oken ID: 201, Word: '\nToken ID: 198, Word: '\n'\nToken ID: 2514, Word: 'To'\nToken ID: 1011, Word: ' take'\nToken ID: 345, Word: ' you'\nToken ID: 1497, Word: ' away'\nToken ID: 11, Word: ','\nToken ID: 198, Word: '\n'\nToken ID: 198, Word: '\n'\nToken ID: 5377, Word: 'Com'\nToken ID: 6, Word: '''\nToken ID: 261, Word: 'on'\nToken ID: 2576, Word: ' girl'\nToken ID: 11, Word: ','\nToken ID: 401, Word: ' com'\nToken ID: 6, Word: '''\nToken ID: 261, Word: 'on'\nToken ID: 2576, Word: ' girl'\nToken ID: 11, Word: ','\nToken ID: 401, Word: ' com'\nToken ID: 6, Word: '''\nToken ID: 261, Word: 'on'\nToken ID: 2576, Word: ' girl'\nToken ID: 11, Word: ','\nToken ID: 17207, Word: ' hey'\nToken ID: 0, Word: '!'\n'oken ID: 201, Word: '\nToken ID: 198, Word: '\n'\nToken ID: 5377, Word: 'Com'\nToken ID: 6, Word: '''\nToken ID: 261, Word: 'on'\nToken ID: 2576, Word: ' girl'\nToken ID: 11, Word: ','\nToken ID: 401, Word: ' com'\nToken ID: 6, Word: '''\nToken ID: 261, Word: 'on'\nToken ID: 2576, Word: ' girl'\nToken ID: 11, Word: ','\nToken ID: 401, Word: ' com'\nToken ID: 6, Word: '''\nToken ID: 261, Word: 'on'\nToken ID: 2576, Word: ' girl'\nToken ID: 11, Word: ','\nToken ID: 17207, Word: ' hey'\nToken ID: 0, Word: '!'\n'oken ID: 201, Word: '\nToken ID: 198, Word: '\n'\nToken ID: 5377, Word: 'Com'\nToken ID: 6, Word: '''\nToken ID: 261, Word: 'on'\nToken ID: 2576, Word: ' girl'\nToken ID: 11, Word: ','\nToken ID: 401, Word: ' com'\nToken ID: 6, Word: '''\nToken ID: 261, Word: 'on'\nToken ID: 2576, Word: ' girl'\nToken ID: 11, Word: ','\nToken ID: 401, Word: ' com'\nToken ID: 6, Word: '''\nToken ID: 261, Word: 'on'\nToken ID: 2576, Word: ' girl'\nToken ID: 11, Word: ','\nToken ID: 17207, Word: ' hey'\nToken ID: 0, Word: '!'\n'oken ID: 201, Word: '\nToken ID: 198, Word: '\n'\nToken ID: 5377, Word: 'Com'\nToken ID: 6, Word: '''\nToken ID: 261, Word: 'on'\nToken ID: 2576, Word: ' girl'\nToken ID: 11, Word: ','\nToken ID: 401, Word: ' com'\nToken ID: 6, Word: '''\nToken ID: 261, Word: 'on'\nToken ID: 2576, Word: ' girl'\nToken ID: 11, Word: ','\nToken ID: 401, Word: ' com'\nToken ID: 6, Word: '''\nToken ID: 261, Word: 'on'\nToken ID: 2576, Word: ' girl'\nToken ID: 11, Word: ','\nToken ID: 17207, Word: ' hey'\nToken ID: 0, Word: '!'\nToken ID: 198, Word: '\n'\nToken ID: 198, Word: '\n'\nToken ID: 40, Word: 'I'\nToken ID: 460, Word: ' can'\nToken ID: 766, Word: ' see'\nToken ID: 262, Word: ' the'\nToken ID: 804, Word: ' look'\nToken ID: 2641, Word: ' inside'\nToken ID: 534, Word: ' your'\nToken ID: 2951, Word: ' eyes'\nToken ID: 290, Word: ' and'\nToken ID: 314, Word: ' I'\nToken ID: 760, Word: ' know'\nToken ID: 326, Word: ' that'\nToken ID: 345, Word: ' you'\nToken ID: 765, Word: ' want'\nToken ID: 340, Word: ' it'\nToken ID: 11, Word: ','\n'oken ID: 201, Word: '\nToken ID: 198, Word: '\n'\nToken ID: 1639, Word: 'You'\nToken ID: 781, Word: ' fl'\nToken ID: 5893, Word: 'irty'\nToken ID: 11, Word: ','\nToken ID: 781, Word: ' fl'\nToken ID: 5893, Word: 'irty'\nToken ID: 351, Word: ' with'\nToken ID: 502, Word: ' me'\nToken ID: 290, Word: ' and'\nToken ID: 314, Word: ' I'\nToken ID: 1842, Word: ' love'\nToken ID: 262, Word: ' the'\nToken ID: 835, Word: ' way'\nToken ID: 345, Word: ' you'\nToken ID: 781, Word: ' fl'\nToken ID: 12968, Word: 'aunt'\nToken ID: 340, Word: ' it'\nToken ID: 11, Word: ','\n'oken ID: 201, Word: '\nToken ID: 198, Word: '\n'\nToken ID: 1639, Word: 'You'\nToken ID: 760, Word: ' know'\nToken ID: 326, Word: ' that'\nToken ID: 345, Word: ' you'\nToken ID: 821, Word: ''re'\nToken ID: 262, Word: ' the'\nToken ID: 7510, Word: ' shit'\nToken ID: 290, Word: ' and'\nToken ID: 326, Word: ' that'\nToken ID: 345, Word: ' you'\nToken ID: 898, Word: ' own'\nToken ID: 262, Word: ' the'\nToken ID: 3430, Word: ' club'\nToken ID: 11, Word: ','\n'oken ID: 201, Word: '\nToken ID: 198, Word: '\n'\nToken ID: 40, Word: 'I'\nToken ID: 655, Word: ' just'\nToken ID: 18869, Word: ' wanna'\nToken ID: 1210, Word: ' turn'\nToken ID: 345, Word: ' you'\nToken ID: 290, Word: ' and'\nToken ID: 502, Word: ' me'\nToken ID: 656, Word: ' into'\nToken ID: 281, Word: ' an'\nToken ID: 357, Word: ' ('\nToken ID: 385, Word: 'us'\nToken ID: 8, Word: ')'\n'oken ID: 201, Word: '\nToken ID: 198, Word: '\n'\nToken ID: 28718, Word: 'Hom'\nToken ID: 494, Word: 'ie'\nToken ID: 18869, Word: ' wanna'\nToken ID: 2151, Word: ' party'\nToken ID: 475, Word: ' but'\nToken ID: 345, Word: ' you'\nToken ID: 760, Word: ' know'\nToken ID: 8168, Word: ' nobody'\nToken ID: 2073, Word: ' else'\nToken ID: 460, Word: ' can'\nToken ID: 357, Word: ' ('\nToken ID: 4598, Word: 'do'\nToken ID: 8, Word: ')'\n'oken ID: 201, Word: '\nToken ID: 198, Word: '\n'\nToken ID: 1135, Word: 'We'\nToken ID: 460, Word: ' can'\nToken ID: 466, Word: ' do'\nToken ID: 4232, Word: ' whatever'\nToken ID: 11, Word: ','\nToken ID: 1394, Word: ' keep'\nToken ID: 340, Word: ' it'\nToken ID: 1171, Word: ' public'\nToken ID: 393, Word: ' or'\nToken ID: 611, Word: ' if'\nToken ID: 357, Word: ' ('\nToken ID: 5832, Word: 'you'\nToken ID: 8, Word: ')'\n'oken ID: 201, Word: '\nToken ID: 198, Word: '\n'\nToken ID: 54, Word: 'W'\nToken ID: 7697, Word: 'anna'\nToken ID: 1394, Word: ' keep'\nToken ID: 340, Word: ' it'\nToken ID: 2839, Word: ' private'\nToken ID: 290, Word: ' and'\nToken ID: 23557, Word: ' undercover'\nToken ID: 326, Word: ' that'\nToken ID: 338, Word: ''s'\nToken ID: 357, Word: ' ('\nToken ID: 24494, Word: 'cool'\nToken ID: 8, Word: ')'\nToken ID: 220, Word: ' '\n'oken ID: 201, Word: '\nToken ID: 198, Word: '\n'\nToken ID: 40, Word: 'I'\nToken ID: 655, Word: ' just'\nToken ID: 18869, Word: ' wanna'\nToken ID: 2652, Word: ' stay'\nToken ID: 739, Word: ' under'\nToken ID: 262, Word: ' the'\nToken ID: 8698, Word: ' covers'\nToken ID: 351, Word: ' with'\nToken ID: 357, Word: ' ('\nToken ID: 5832, Word: 'you'\nToken ID: 8, Word: ')'\nToken ID: 50257, Word: '[PAD]'\nToken ID: 50257, Word: '[PAD]'\nToken ID: 50257, Word: '[PAD]'\nToken ID: 50257, Word: '[PAD]'\nToken ID: 50257, Word: '[PAD]'\nToken ID: 50257, Word: '[PAD]'\nToken ID: 50257, Word: '[PAD]'\nToken ID: 50257, Word: '[PAD]'\nToken ID: 50257, Word: '[PAD]'\nToken ID: 50257, Word: '[PAD]'\nToken ID: 50257, Word: '[PAD]'\nToken ID: 50257, Word: '[PAD]'\nToken ID: 50257, Word: '[PAD]'\nToken ID: 50257, Word: '[PAD]'\nToken ID: 50257, Word: '[PAD]'\nToken ID: 50257, Word: '[PAD]'\nToken ID: 50257, Word: '[PAD]'\nToken ID: 50257, Word: '[PAD]'\nToken ID: 50257, Word: '[PAD]'\nToken ID: 50257, Word: '[PAD]'\nToken ID: 50257, Word: '[PAD]'\nToken ID: 50257, Word: '[PAD]'\nToken ID: 50257, Word: '[PAD]'\nToken ID: 50257, Word: '[PAD]'\nToken ID: 50257, Word: '[PAD]'\nToken ID: 50257, Word: '[PAD]'\nToken ID: 50257, Word: '[PAD]'\n",
          "output_type": "stream"
        }
      ],
      "execution_count": null
    },
    {
      "cell_type": "code",
      "source": [
        "print(tokenizer.decode(second_lyrics_ids, skip_special_tokens=True))"
      ],
      "metadata": {
        "id": "s_IkTL8j1zFL",
        "trusted": true,
        "execution": {
          "iopub.status.busy": "2025-01-26T13:57:13.712764Z",
          "iopub.execute_input": "2025-01-26T13:57:13.713410Z",
          "iopub.status.idle": "2025-01-26T13:57:13.727759Z",
          "shell.execute_reply.started": "2025-01-26T13:57:13.713380Z",
          "shell.execute_reply": "2025-01-26T13:57:13.726751Z"
        },
        "outputId": "b887af91-8337-435e-df11-a34cc4cf990b"
      },
      "outputs": [
        {
          "name": "stdout",
          "text": "Com'on girl, com'on girl, com'on girl, hey!\nCom'on girl, com'on girl, com'on girl, hey!\n\nBaby Girl, you know that I just want to take you to the spot,\nDo things to you that are definitely gonna get ya hot,\nI love how ya shake that little booty around the club,\nI just wanna turn you and me into an (us)\nHomie wanna party but you know nobody else can (do)\nWe can do whatever, keep it public or if (you)\nWanna keep it private and undercover that's (cool) \nI just wanna stay under the covers with (you)\n\nNow I know that you want it,\nYou've indicated,\nIt's obvious I need you,\nJust make a decision,\n'Bout what I gotta say,\nTell me what I gotta say,\nTell me what I gotta say,\nTo take you away with me,\nTo take you away with me,\nTo take you away with me,\nTo take you away with me,\nTo take you away,\n\nCom'on girl, com'on girl, com'on girl, hey!\nCom'on girl, com'on girl, com'on girl, hey!\nCom'on girl, com'on girl, com'on girl, hey!\nCom'on girl, com'on girl, com'on girl, hey!\n\nI can see the look inside your eyes and I know that you want it,\nYou flirty, flirty with me and I love the way you flaunt it,\nYou know that you're the shit and that you own the club,\nI just wanna turn you and me into an (us)\nHomie wanna party but you know nobody else can (do)\nWe can do whatever, keep it public or if (you)\nWanna keep it private and undercover that's (cool) \nI just wanna stay under the covers with (you)\n",
          "output_type": "stream"
        }
      ],
      "execution_count": null
    },
    {
      "cell_type": "markdown",
      "source": [
        "#EDA"
      ],
      "metadata": {
        "id": "TFR5WLrhvDMk"
      }
    },
    {
      "cell_type": "markdown",
      "source": [
        "Counting number of sub-words for each lyric"
      ],
      "metadata": {
        "id": "hYnY1wsJvG7n"
      }
    },
    {
      "cell_type": "code",
      "source": [
        "\n",
        "word_counts = [len(lyric) for lyric in data]\n",
        "\n",
        "# Plot histogram\n",
        "plt.figure(figsize=(10, 6))\n",
        "plt.hist(word_counts, bins=20, edgecolor='black')\n",
        "plt.title('Sub-Word Count Distribution per Lyric')\n",
        "plt.xlabel('Sub-Word Count')\n",
        "plt.ylabel('Frequency')\n",
        "plt.show()"
      ],
      "metadata": {
        "id": "vezK-GXztq4X",
        "trusted": true,
        "execution": {
          "iopub.status.busy": "2025-01-26T13:57:13.728691Z",
          "iopub.execute_input": "2025-01-26T13:57:13.728999Z",
          "iopub.status.idle": "2025-01-26T13:57:14.011452Z",
          "shell.execute_reply.started": "2025-01-26T13:57:13.728971Z",
          "shell.execute_reply": "2025-01-26T13:57:14.010664Z"
        },
        "outputId": "f425d59d-ad1f-4377-adaf-eb06be4dc831"
      },
      "outputs": [
        {
          "output_type": "display_data",
          "data": {
            "text/plain": "<Figure size 1000x600 with 1 Axes>",
            "image/png": "[encoded data removed]"
          },
          "metadata": {}
        }
      ],
      "execution_count": null
    },
    {
      "cell_type": "code",
      "source": [
        "from collections import Counter\n",
        "import string\n",
        "\n",
        "# Assuming `tokenized_lyrics_list` contains lists of token IDs\n",
        "all_tokens = [token for lyric in encoded['input_ids'] for token in lyric]\n",
        "\n",
        "# Decode token IDs, ignoring padding token (50257)\n",
        "decoded_tokens = [\n",
        "    tokenizer.decode([token]).strip()\n",
        "    for token in all_tokens\n",
        "    if token != 50257 and tokenizer.decode([token]).strip() not in {'\\n', '\\r'} and tokenizer.decode([token]).strip() not in string.punctuation\n",
        "]\n",
        "\n",
        "# Count word frequencies\n",
        "word_counts = Counter(decoded_tokens)\n",
        "\n",
        "# Most common words\n",
        "most_common_words = word_counts.most_common(10)  # Get top 10 most common words\n",
        "print(\"Most Common Words:\", most_common_words)\n"
      ],
      "metadata": {
        "id": "D-RkbQr0t6aw",
        "trusted": true,
        "execution": {
          "iopub.status.busy": "2025-01-26T13:57:14.012127Z",
          "iopub.execute_input": "2025-01-26T13:57:14.012333Z",
          "iopub.status.idle": "2025-01-26T13:57:39.241882Z",
          "shell.execute_reply.started": "2025-01-26T13:57:14.012315Z",
          "shell.execute_reply": "2025-01-26T13:57:39.240955Z"
        },
        "outputId": "e795d27b-ae56-4708-d460-df866bcb7627"
      },
      "outputs": [
        {
          "name": "stdout",
          "text": "Most Common Words: [('I', 10838), ('you', 7514), ('the', 5743), ('me', 3983), ('it', 3460), ('a', 3406), ('to', 3379), (\"'t\", 3218), ('in', 3048), (\"'s\", 2823)]\n",
          "output_type": "stream"
        }
      ],
      "execution_count": null
    },
    {
      "cell_type": "code",
      "source": [
        "pip install wordcloud"
      ],
      "metadata": {
        "id": "YtRaqogT1TPX",
        "trusted": true,
        "execution": {
          "iopub.status.busy": "2025-01-26T13:57:39.251403Z",
          "iopub.execute_input": "2025-01-26T13:57:39.251625Z",
          "iopub.status.idle": "2025-01-26T13:57:42.540879Z",
          "shell.execute_reply.started": "2025-01-26T13:57:39.251605Z",
          "shell.execute_reply": "2025-01-26T13:57:42.539907Z"
        },
        "outputId": "a9119608-ca95-4f37-ddad-bb593d29f275"
      },
      "outputs": [
        {
          "name": "stdout",
          "text": "Requirement already satisfied: wordcloud in /usr/local/lib/python3.10/dist-packages (1.9.4)\nRequirement already satisfied: numpy>=1.6.1 in /usr/local/lib/python3.10/dist-packages (from wordcloud) (1.26.4)\nRequirement already satisfied: pillow in /usr/local/lib/python3.10/dist-packages (from wordcloud) (11.0.0)\nRequirement already satisfied: matplotlib in /usr/local/lib/python3.10/dist-packages (from wordcloud) (3.7.5)\nRequirement already satisfied: mkl_fft in /usr/local/lib/python3.10/dist-packages (from numpy>=1.6.1->wordcloud) (1.3.8)\nRequirement already satisfied: mkl_random in /usr/local/lib/python3.10/dist-packages (from numpy>=1.6.1->wordcloud) (1.2.4)\nRequirement already satisfied: mkl_umath in /usr/local/lib/python3.10/dist-packages (from numpy>=1.6.1->wordcloud) (0.1.1)\nRequirement already satisfied: mkl in /usr/local/lib/python3.10/dist-packages (from numpy>=1.6.1->wordcloud) (2025.0.1)\nRequirement already satisfied: tbb4py in /usr/local/lib/python3.10/dist-packages (from numpy>=1.6.1->wordcloud) (2022.0.0)\nRequirement already satisfied: mkl-service in /usr/local/lib/python3.10/dist-packages (from numpy>=1.6.1->wordcloud) (2.4.1)\nRequirement already satisfied: contourpy>=1.0.1 in /usr/local/lib/python3.10/dist-packages (from matplotlib->wordcloud) (1.3.1)\nRequirement already satisfied: cycler>=0.10 in /usr/local/lib/python3.10/dist-packages (from matplotlib->wordcloud) (0.12.1)\nRequirement already satisfied: fonttools>=4.22.0 in /usr/local/lib/python3.10/dist-packages (from matplotlib->wordcloud) (4.55.3)\nRequirement already satisfied: kiwisolver>=1.0.1 in /usr/local/lib/python3.10/dist-packages (from matplotlib->wordcloud) (1.4.7)\nRequirement already satisfied: packaging>=20.0 in /usr/local/lib/python3.10/dist-packages (from matplotlib->wordcloud) (24.2)\nRequirement already satisfied: pyparsing>=2.3.1 in /usr/local/lib/python3.10/dist-packages (from matplotlib->wordcloud) (3.2.0)\nRequirement already satisfied: python-dateutil>=2.7 in /usr/local/lib/python3.10/dist-packages (from matplotlib->wordcloud) (2.8.2)\nRequirement already satisfied: six>=1.5 in /usr/local/lib/python3.10/dist-packages (from python-dateutil>=2.7->matplotlib->wordcloud) (1.17.0)\nRequirement already satisfied: intel-openmp>=2024 in /usr/local/lib/python3.10/dist-packages (from mkl->numpy>=1.6.1->wordcloud) (2024.2.0)\nRequirement already satisfied: tbb==2022.* in /usr/local/lib/python3.10/dist-packages (from mkl->numpy>=1.6.1->wordcloud) (2022.0.0)\nRequirement already satisfied: tcmlib==1.* in /usr/local/lib/python3.10/dist-packages (from tbb==2022.*->mkl->numpy>=1.6.1->wordcloud) (1.2.0)\nRequirement already satisfied: intel-cmplr-lib-rt in /usr/local/lib/python3.10/dist-packages (from mkl_umath->numpy>=1.6.1->wordcloud) (2024.2.0)\nRequirement already satisfied: intel-cmplr-lib-ur==2024.2.0 in /usr/local/lib/python3.10/dist-packages (from intel-openmp>=2024->mkl->numpy>=1.6.1->wordcloud) (2024.2.0)\nNote: you may need to restart the kernel to use updated packages.\n",
          "output_type": "stream"
        }
      ],
      "execution_count": null
    },
    {
      "cell_type": "code",
      "source": [
        "from wordcloud import WordCloud"
      ],
      "metadata": {
        "id": "_aFrx4-Y1isd",
        "trusted": true,
        "execution": {
          "iopub.status.busy": "2025-01-26T13:57:42.542963Z",
          "iopub.execute_input": "2025-01-26T13:57:42.543230Z",
          "iopub.status.idle": "2025-01-26T13:57:42.617801Z",
          "shell.execute_reply.started": "2025-01-26T13:57:42.543207Z",
          "shell.execute_reply": "2025-01-26T13:57:42.616975Z"
        }
      },
      "outputs": [],
      "execution_count": null
    },
    {
      "cell_type": "code",
      "source": [],
      "metadata": {
        "id": "W79t2-2W1T_y",
        "trusted": true
      },
      "outputs": [],
      "execution_count": null
    },
    {
      "cell_type": "code",
      "source": [
        "# Create a word cloud using the filtered word counts\n",
        "wordcloud = WordCloud(width=800, height=400, background_color='white').generate_from_frequencies(word_counts)\n",
        "\n",
        "# Display the word cloud\n",
        "plt.figure(figsize=(10, 6))\n",
        "plt.imshow(wordcloud, interpolation='bilinear')\n",
        "plt.axis('off')  # Turn off axis\n",
        "plt.show()"
      ],
      "metadata": {
        "id": "oq1iOvOE1InZ",
        "trusted": true,
        "execution": {
          "iopub.status.busy": "2025-01-26T13:57:42.618576Z",
          "iopub.execute_input": "2025-01-26T13:57:42.619611Z",
          "iopub.status.idle": "2025-01-26T13:57:43.451085Z",
          "shell.execute_reply.started": "2025-01-26T13:57:42.619589Z",
          "shell.execute_reply": "2025-01-26T13:57:43.450182Z"
        },
        "outputId": "7f72bbed-6645-4a60-819b-50474772bf47"
      },
      "outputs": [
        {
          "output_type": "display_data",
          "data": {
            "text/plain": "<Figure size 1000x600 with 1 Axes>",
            "image/png": "[encoded data removed]"
          },
          "metadata": {}
        }
      ],
      "execution_count": null
    },
    {
      "cell_type": "code",
      "source": [
        "from transformers import GPT2Tokenizer, GPT2LMHeadModel, GPT2Config, AdamW, get_linear_schedule_with_warmup"
      ],
      "metadata": {
        "id": "OWhkK4iNKPVd",
        "trusted": true,
        "execution": {
          "iopub.status.busy": "2025-01-26T13:57:43.452050Z",
          "iopub.execute_input": "2025-01-26T13:57:43.452287Z",
          "iopub.status.idle": "2025-01-26T13:57:44.425791Z",
          "shell.execute_reply.started": "2025-01-26T13:57:43.452266Z",
          "shell.execute_reply": "2025-01-26T13:57:44.424848Z"
        }
      },
      "outputs": [],
      "execution_count": null
    },
    {
      "cell_type": "code",
      "source": [
        "import torch\n",
        "from torch.utils.data import random_split\n",
        "from torch.utils.data import DataLoader, RandomSampler"
      ],
      "metadata": {
        "id": "XNFefPpMRe4I",
        "trusted": true,
        "execution": {
          "iopub.status.busy": "2025-01-26T13:57:44.426576Z",
          "iopub.execute_input": "2025-01-26T13:57:44.426796Z",
          "iopub.status.idle": "2025-01-26T13:57:44.430485Z",
          "shell.execute_reply.started": "2025-01-26T13:57:44.426778Z",
          "shell.execute_reply": "2025-01-26T13:57:44.429620Z"
        }
      },
      "outputs": [],
      "execution_count": null
    },
    {
      "cell_type": "code",
      "source": [
        "device = torch.device(\"cuda:0\" if torch.cuda.is_available() else \"cpu\")\n",
        "device"
      ],
      "metadata": {
        "id": "QxKjOHbgKTPk",
        "trusted": true,
        "execution": {
          "iopub.status.busy": "2025-01-26T13:57:44.431342Z",
          "iopub.execute_input": "2025-01-26T13:57:44.431666Z",
          "iopub.status.idle": "2025-01-26T13:57:44.499330Z",
          "shell.execute_reply.started": "2025-01-26T13:57:44.431634Z",
          "shell.execute_reply": "2025-01-26T13:57:44.498619Z"
        },
        "outputId": "96ffb984-0a22-4a3a-f988-59086dd6f366"
      },
      "outputs": [
        {
          "execution_count": 67,
          "output_type": "execute_result",
          "data": {
            "text/plain": "device(type='cuda', index=0)"
          },
          "metadata": {}
        }
      ],
      "execution_count": null
    },
    {
      "cell_type": "code",
      "source": [
        "# Load model configuration\n",
        "config = GPT2Config.from_pretrained(\"gpt2\")"
      ],
      "metadata": {
        "id": "SL_4RcIJKXvE",
        "trusted": true,
        "execution": {
          "iopub.status.busy": "2025-01-26T13:57:44.500181Z",
          "iopub.execute_input": "2025-01-26T13:57:44.500509Z",
          "iopub.status.idle": "2025-01-26T13:57:44.617854Z",
          "shell.execute_reply.started": "2025-01-26T13:57:44.500478Z",
          "shell.execute_reply": "2025-01-26T13:57:44.617292Z"
        }
      },
      "outputs": [],
      "execution_count": null
    },
    {
      "cell_type": "code",
      "source": [
        "# Create model instance and set embedding length\n",
        "model = GPT2LMHeadModel.from_pretrained(\"gpt2\", config=config)\n",
        "model.resize_token_embeddings(len(tokenizer))"
      ],
      "metadata": {
        "id": "Qx3iJ0xQKarn",
        "trusted": true,
        "execution": {
          "iopub.status.busy": "2025-01-26T13:57:44.618539Z",
          "iopub.execute_input": "2025-01-26T13:57:44.618727Z",
          "iopub.status.idle": "2025-01-26T13:57:48.568366Z",
          "shell.execute_reply.started": "2025-01-26T13:57:44.618710Z",
          "shell.execute_reply": "2025-01-26T13:57:48.567635Z"
        },
        "outputId": "bd6b4561-a660-42ed-bec6-84c66c0d9047",
        "colab": {
          "referenced_widgets": [
            "c2ce53fcfb9d4824ae912d9695ec3d7a",
            "5138633a490f42e0ae2aeeaa48a2f588"
          ]
        }
      },
      "outputs": [
        {
          "output_type": "display_data",
          "data": {
            "text/plain": "model.safetensors:   0%|          | 0.00/548M [00:00<?, ?B/s]",
            "application/vnd.jupyter.widget-view+json": {
              "version_major": 2,
              "version_minor": 0,
              "model_id": "c2ce53fcfb9d4824ae912d9695ec3d7a"
            }
          },
          "metadata": {}
        },
        {
          "output_type": "display_data",
          "data": {
            "text/plain": "generation_config.json:   0%|          | 0.00/124 [00:00<?, ?B/s]",
            "application/vnd.jupyter.widget-view+json": {
              "version_major": 2,
              "version_minor": 0,
              "model_id": "5138633a490f42e0ae2aeeaa48a2f588"
            }
          },
          "metadata": {}
        },
        {
          "name": "stderr",
          "text": "The new embeddings will be initialized from a multivariate normal distribution that has old embeddings' mean and covariance. As described in this article: https://nlp.stanford.edu/~johnhew/vocab-expansion.html. To disable this, use `mean_resizing=False`\n",
          "output_type": "stream"
        },
        {
          "execution_count": 69,
          "output_type": "execute_result",
          "data": {
            "text/plain": "Embedding(50260, 768)"
          },
          "metadata": {}
        }
      ],
      "execution_count": null
    },
    {
      "cell_type": "code",
      "source": [
        "# Running the model on GPU\n",
        "model = model.to(device)"
      ],
      "metadata": {
        "id": "HbsVZbuuKdVr",
        "trusted": true,
        "execution": {
          "iopub.status.busy": "2025-01-26T13:57:48.569241Z",
          "iopub.execute_input": "2025-01-26T13:57:48.569572Z",
          "iopub.status.idle": "2025-01-26T13:57:48.888300Z",
          "shell.execute_reply.started": "2025-01-26T13:57:48.569536Z",
          "shell.execute_reply": "2025-01-26T13:57:48.887629Z"
        }
      },
      "outputs": [],
      "execution_count": null
    },
    {
      "cell_type": "code",
      "source": [
        "epochs = 4\n",
        "batch_size = 8\n",
        "warmup_steps = 1e2\n",
        "sample_every = 100"
      ],
      "metadata": {
        "id": "eDxCyntRKgnZ",
        "trusted": true,
        "execution": {
          "iopub.status.busy": "2025-01-26T13:57:48.888942Z",
          "iopub.execute_input": "2025-01-26T13:57:48.889150Z",
          "iopub.status.idle": "2025-01-26T13:57:48.892678Z",
          "shell.execute_reply.started": "2025-01-26T13:57:48.889132Z",
          "shell.execute_reply": "2025-01-26T13:57:48.891938Z"
        }
      },
      "outputs": [],
      "execution_count": null
    },
    {
      "cell_type": "code",
      "source": [
        "encoded"
      ],
      "metadata": {
        "id": "nL2iZP2BaKsg",
        "trusted": true,
        "execution": {
          "iopub.status.busy": "2025-01-26T13:57:48.893377Z",
          "iopub.execute_input": "2025-01-26T13:57:48.893658Z",
          "iopub.status.idle": "2025-01-26T13:57:48.908149Z",
          "shell.execute_reply.started": "2025-01-26T13:57:48.893638Z",
          "shell.execute_reply": "2025-01-26T13:57:48.907504Z"
        },
        "outputId": "b978066b-fb2a-4aee-d3b7-09e44ce70954"
      },
      "outputs": [
        {
          "execution_count": 72,
          "output_type": "execute_result",
          "data": {
            "text/plain": "{'input_ids': tensor([[50257, 50257, 50257,  ..., 50257, 50257, 50257],\n        [ 5377,     6,   261,  ..., 50257, 50257, 50257],\n        [ 1212, 12199,    11,  ..., 50257, 50257, 50257],\n        ...,\n        [ 2396,   881,  1204,  ..., 50257, 50257, 50257],\n        [ 1026,  1718,   514,  ..., 50257, 50257, 50257],\n        [ 6214,   606,  6155,  ..., 50257, 50257, 50257]]), 'attention_mask': tensor([[0, 0, 0,  ..., 0, 0, 0],\n        [1, 1, 1,  ..., 0, 0, 0],\n        [1, 1, 1,  ..., 0, 0, 0],\n        ...,\n        [1, 1, 1,  ..., 0, 0, 0],\n        [1, 1, 1,  ..., 0, 0, 0],\n        [1, 1, 1,  ..., 0, 0, 0]])}"
          },
          "metadata": {}
        }
      ],
      "execution_count": null
    },
    {
      "cell_type": "code",
      "source": [
        "import torch\n",
        "from torch.utils.data import Dataset\n",
        "\n",
        "class CustomDataset(Dataset):\n",
        "    def __init__(self, encoded):\n",
        "        # Filter samples where all values in attention_mask are not 0\n",
        "        mask = (encoded[\"attention_mask\"].sum(dim=1) > 0)  # Keep only rows with non-zero attention masks\n",
        "        self.input_ids = encoded[\"input_ids\"][mask]\n",
        "        self.attention_mask = encoded[\"attention_mask\"][mask]\n",
        "\n",
        "    def __len__(self):\n",
        "        # Return the total number of valid samples\n",
        "        return self.input_ids.size(0)\n",
        "\n",
        "    def __getitem__(self, idx):\n",
        "        # Return a tuple of input_ids and attention_mask for the given index\n",
        "        return self.input_ids[idx], self.attention_mask[idx]\n",
        "dataset = CustomDataset(encoded)"
      ],
      "metadata": {
        "id": "xR50F1r8bwDV",
        "trusted": true,
        "execution": {
          "iopub.status.busy": "2025-01-26T13:57:48.908971Z",
          "iopub.execute_input": "2025-01-26T13:57:48.909288Z",
          "iopub.status.idle": "2025-01-26T13:57:48.926277Z",
          "shell.execute_reply.started": "2025-01-26T13:57:48.909261Z",
          "shell.execute_reply": "2025-01-26T13:57:48.925396Z"
        }
      },
      "outputs": [],
      "execution_count": null
    },
    {
      "cell_type": "code",
      "source": [
        "# Split data into train and validation sets\n",
        "train_size = int(0.9*len(dataset))\n",
        "val_size = len(dataset) - train_size\n",
        "\n",
        "train_dataset, val_dataset = random_split(dataset, [train_size, val_size])\n",
        "print(\"Number of samples for training =\", train_size)\n",
        "print(\"Number of samples for validation =\", val_size)"
      ],
      "metadata": {
        "id": "xhf1nYryNbVb",
        "trusted": true,
        "execution": {
          "iopub.status.busy": "2025-01-26T13:57:48.926974Z",
          "iopub.execute_input": "2025-01-26T13:57:48.927203Z",
          "iopub.status.idle": "2025-01-26T13:57:48.933013Z",
          "shell.execute_reply.started": "2025-01-26T13:57:48.927184Z",
          "shell.execute_reply": "2025-01-26T13:57:48.932178Z"
        },
        "outputId": "601547a7-c6fd-4ecc-ffc9-8964cd2e2f7b"
      },
      "outputs": [
        {
          "name": "stdout",
          "text": "Number of samples for training = 1026\nNumber of samples for validation = 115\n",
          "output_type": "stream"
        }
      ],
      "execution_count": null
    },
    {
      "cell_type": "code",
      "source": [
        "from torch.utils.data import SequentialSampler"
      ],
      "metadata": {
        "id": "6CejeLVPYeVC",
        "trusted": true,
        "execution": {
          "iopub.status.busy": "2025-01-26T13:57:48.933908Z",
          "iopub.execute_input": "2025-01-26T13:57:48.934186Z",
          "iopub.status.idle": "2025-01-26T13:57:48.945551Z",
          "shell.execute_reply.started": "2025-01-26T13:57:48.934166Z",
          "shell.execute_reply": "2025-01-26T13:57:48.944662Z"
        }
      },
      "outputs": [],
      "execution_count": null
    },
    {
      "cell_type": "code",
      "source": [
        "train_dataloader = DataLoader(train_dataset,\n",
        "                              sampler=RandomSampler(train_dataset),\n",
        "                              batch_size=batch_size)\n",
        "\n",
        "val_dataloader = DataLoader(val_dataset,\n",
        "                            sampler=SequentialSampler(val_dataset),\n",
        "                            batch_size=batch_size)"
      ],
      "metadata": {
        "id": "abJ1xgBRLsV0",
        "trusted": true,
        "execution": {
          "iopub.status.busy": "2025-01-26T13:57:48.946190Z",
          "iopub.execute_input": "2025-01-26T13:57:48.946453Z",
          "iopub.status.idle": "2025-01-26T13:57:48.960242Z",
          "shell.execute_reply.started": "2025-01-26T13:57:48.946434Z",
          "shell.execute_reply": "2025-01-26T13:57:48.959396Z"
        }
      },
      "outputs": [],
      "execution_count": null
    },
    {
      "cell_type": "code",
      "source": [
        "# Using AdamW optimizer with default parameters\n",
        "optimizer = AdamW(model.parameters(), lr=5e-4, eps=1e-8)\n",
        "\n",
        "\n",
        "# Toatl training steps is the number of data points times the number of epochs\n",
        "total_training_steps = len(train_dataloader)*epochs\n",
        "\n",
        "\n",
        "# Setting a variable learning rate using scheduler\n",
        "scheduler = get_linear_schedule_with_warmup(optimizer,\n",
        "                                            num_warmup_steps=warmup_steps,\n",
        "                                            num_training_steps=total_training_steps)"
      ],
      "metadata": {
        "id": "okbUElu2Kjkt",
        "trusted": true,
        "execution": {
          "iopub.status.busy": "2025-01-26T13:57:48.961217Z",
          "iopub.execute_input": "2025-01-26T13:57:48.961507Z",
          "iopub.status.idle": "2025-01-26T13:57:48.976230Z",
          "shell.execute_reply.started": "2025-01-26T13:57:48.961477Z",
          "shell.execute_reply": "2025-01-26T13:57:48.975491Z"
        },
        "outputId": "25c5a706-1589-4757-f527-09475067bff5"
      },
      "outputs": [
        {
          "name": "stderr",
          "text": "/usr/local/lib/python3.10/dist-packages/transformers/optimization.py:591: FutureWarning: This implementation of AdamW is deprecated and will be removed in a future version. Use the PyTorch implementation torch.optim.AdamW instead, or set `no_deprecation_warning=True` to disable this warning\n  warnings.warn(\n",
          "output_type": "stream"
        }
      ],
      "execution_count": null
    },
    {
      "cell_type": "code",
      "source": [
        "def format_time(elapsed):\n",
        "  return str(datetime.timedelta(seconds=int(round(elapsed))))"
      ],
      "metadata": {
        "id": "n0P44x39XvB4",
        "trusted": true,
        "execution": {
          "iopub.status.busy": "2025-01-26T13:57:48.977022Z",
          "iopub.execute_input": "2025-01-26T13:57:48.977322Z",
          "iopub.status.idle": "2025-01-26T13:57:48.988968Z",
          "shell.execute_reply.started": "2025-01-26T13:57:48.977294Z",
          "shell.execute_reply": "2025-01-26T13:57:48.988379Z"
        }
      },
      "outputs": [],
      "execution_count": null
    },
    {
      "cell_type": "code",
      "source": [
        "import datetime\n",
        "import time\n",
        "import random\n"
      ],
      "metadata": {
        "id": "ij-zOvCeX2jn",
        "trusted": true,
        "execution": {
          "iopub.status.busy": "2025-01-26T13:57:48.989554Z",
          "iopub.execute_input": "2025-01-26T13:57:48.989749Z",
          "iopub.status.idle": "2025-01-26T13:57:49.001451Z",
          "shell.execute_reply.started": "2025-01-26T13:57:48.989732Z",
          "shell.execute_reply": "2025-01-26T13:57:49.000678Z"
        }
      },
      "outputs": [],
      "execution_count": null
    },
    {
      "cell_type": "code",
      "source": [
        "total_t0 = time.time()\n",
        "training_stats = []\n",
        "model = model.to(device)"
      ],
      "metadata": {
        "id": "E9oJnaoUXw5Z",
        "trusted": true,
        "execution": {
          "iopub.status.busy": "2025-01-26T13:57:49.002186Z",
          "iopub.execute_input": "2025-01-26T13:57:49.002423Z",
          "iopub.status.idle": "2025-01-26T13:57:49.015773Z",
          "shell.execute_reply.started": "2025-01-26T13:57:49.002395Z",
          "shell.execute_reply": "2025-01-26T13:57:49.015107Z"
        }
      },
      "outputs": [],
      "execution_count": null
    },
    {
      "cell_type": "code",
      "source": [
        "total_t0 = time.time()\n",
        "\n",
        "training_stats = []\n",
        "\n",
        "model = model.to(device)\n",
        "\n",
        "for epoch_i in range(epochs):\n",
        "  print(f'Beginning epoch {epoch_i+1} of {epochs}')\n",
        "\n",
        "  t0 = time.time()\n",
        "  total_train_loss = 0\n",
        "  model.train()\n",
        "\n",
        "  # Labels are shifted by 1 timestep\n",
        "  for step, batch in enumerate(train_dataloader):\n",
        "    b_input_ids = batch[0].to(device)\n",
        "    b_labels = batch[0].to(device)\n",
        "    b_masks = batch[1].to(device)\n",
        "\n",
        "    model.zero_grad()\n",
        "\n",
        "    outputs = model(b_input_ids,\n",
        "                    labels=b_labels,\n",
        "                    attention_mask=b_masks)\n",
        "\n",
        "    loss = outputs[0]\n",
        "\n",
        "    batch_loss = loss.item()\n",
        "    total_train_loss += batch_loss\n",
        "\n",
        "    # Sampling every x steps\n",
        "    if step != 0 and step % sample_every == 0:\n",
        "\n",
        "      elapsed = format_time(time.time()-t0)\n",
        "      print(f'Batch {step} of {len(train_dataloader)}. Loss: {batch_loss}. Time: {elapsed}')\n",
        "\n",
        "      model.eval()\n",
        "\n",
        "      sample_outputs = model.generate(\n",
        "                                    bos_token_id=random.randint(1,30000),\n",
        "                                    do_sample=True,\n",
        "                                    top_k=50,\n",
        "                                    max_length = 200,\n",
        "                                    top_p=0.95,\n",
        "                                    num_return_sequences=1\n",
        "                                )\n",
        "      for i, sample_output in enumerate(sample_outputs):\n",
        "        print(f'Example ouput: {tokenizer.decode(sample_output, skip_special_tokens=True)}')\n",
        "      print()\n",
        "\n",
        "      model.train()\n",
        "\n",
        "    loss.backward()\n",
        "    optimizer.step()\n",
        "    scheduler.step()\n",
        "\n",
        "  avg_train_loss = total_train_loss / len(train_dataloader)\n",
        "  training_time = format_time(time.time()-t0)\n",
        "  print(f'Average Training Loss: {avg_train_loss}. Epoch time: {training_time}')\n",
        "  print()\n",
        "\n",
        "  t0 = time.time()\n",
        "  model.eval()\n",
        "\n",
        "  total_eval_loss = 0\n",
        "  nb_eval_steps = 0\n",
        "\n",
        "  for batch in val_dataloader:\n",
        "    b_input_ids = batch[0].to(device)\n",
        "    b_labels = batch[0].to(device)\n",
        "    b_masks = batch[1].to(device)\n",
        "\n",
        "    with torch.no_grad():\n",
        "\n",
        "        outputs  = model(b_input_ids,\n",
        "                         attention_mask = b_masks,\n",
        "                         labels=b_labels)\n",
        "\n",
        "        loss = outputs[0]\n",
        "\n",
        "    batch_loss = loss.item()\n",
        "    total_eval_loss += batch_loss\n",
        "\n",
        "  avg_val_loss = total_eval_loss / len(val_dataloader)\n",
        "  val_time = format_time(time.time() - t0)\n",
        "  print(f'Validation loss: {avg_val_loss}. Validation Time: {val_time}')\n",
        "  print()\n",
        "\n",
        "  # Record all statistics from this epoch.\n",
        "  training_stats.append(\n",
        "      {\n",
        "          'epoch': epoch_i + 1,\n",
        "          'Training Loss': avg_train_loss,\n",
        "          'Valid. Loss': avg_val_loss,\n",
        "          'Training Time': training_time,\n",
        "          'Validation Time': val_time\n",
        "      }\n",
        "  )\n",
        "  print(\"------------------------------\")\n",
        "\n",
        "print(f'Total training took {format_time(time.time()-total_t0)}')"
      ],
      "metadata": {
        "id": "46Plydw5X6-v",
        "trusted": true,
        "execution": {
          "iopub.status.busy": "2025-01-26T13:57:49.016518Z",
          "iopub.execute_input": "2025-01-26T13:57:49.016787Z",
          "iopub.status.idle": "2025-01-26T14:03:22.118670Z",
          "shell.execute_reply.started": "2025-01-26T13:57:49.016768Z",
          "shell.execute_reply": "2025-01-26T14:03:22.117713Z"
        },
        "outputId": "71a00377-6a22-4d38-9dd0-4eeb51399b50"
      },
      "outputs": [
        {
          "name": "stdout",
          "text": "Beginning epoch 1 of 4\n",
          "output_type": "stream"
        },
        {
          "name": "stderr",
          "text": "The attention mask and the pad token id were not set. As a consequence, you may observe unexpected behavior. Please pass your input's `attention_mask` to obtain reliable results.\nSetting `pad_token_id` to `eos_token_id`:50256 for open-end generation.\nThe attention mask is not set and cannot be inferred from input because pad token is same as eos token. As a consequence, you may observe unexpected behavior. Please pass your input's `attention_mask` to obtain reliable results.\n",
          "output_type": "stream"
        },
        {
          "name": "stdout",
          "text": "Batch 100 of 129. Loss: 1.381316900253296. Time: 0:01:02\nExample ouput:  Really that's just me\nMaybe you'll be the one in my heart\nIt ain't so bad\nOh yeah, I need a little bit of your love\n\nMaybe you'll be the one in my heart\n\nI need a little bit of your love\nI need a little bit of your love \nI need a little bit of your love \nI need a little bit of your love \nI need a little bit of your love \nI need a little bit of your love \nI need a little bit of your love \nI need a little bit of your love \nI need a little bit of your love \nI need a little bit of your love \nI need a little bit of your love \nI need a little bit of your love \nI need a little bit of your love \nI need a little bit of your love \n\nAverage Training Loss: 3.02007924447688. Epoch time: 0:01:21\n\nValidation loss: 1.1316505750020345. Validation Time: 0:00:03\n\n------------------------------\nBeginning epoch 2 of 4\n",
          "output_type": "stream"
        },
        {
          "name": "stderr",
          "text": "The attention mask and the pad token id were not set. As a consequence, you may observe unexpected behavior. Please pass your input's `attention_mask` to obtain reliable results.\nSetting `pad_token_id` to `eos_token_id`:50256 for open-end generation.\n",
          "output_type": "stream"
        },
        {
          "name": "stdout",
          "text": "Batch 100 of 129. Loss: 0.9684083461761475. Time: 0:01:02\nExample ouput:  Ice I had a dream and I had a dreamer\nThat I would go on with the girl and we're unstoppable (yeah we are unstoppable)\nI always knew that this dream would go down in flames\nOne day I wake up from my sleep and I run\n\nYeah, I got you\nWe were just fucking on this dream\nI made some plans for the night\nWe had to cut it down to the bone\nAnd I said \"I can't be gone\"\nSo that's what we started doing (I'm just gonna be alright)\nWe started feeling good\nBut that's all that was left standing (we only had a good time)\nSo I go on with the girl and we're unstoppable (yeah we are unstoppable)\nWe started feeling good\n\nYeah, I got you\nWe were just fucking on this dream\nI made some plans for the night\nWe had\n\nAverage Training Loss: 1.0717527376588925. Epoch time: 0:01:21\n\nValidation loss: 1.078965965906779. Validation Time: 0:00:03\n\n------------------------------\nBeginning epoch 3 of 4\n",
          "output_type": "stream"
        },
        {
          "name": "stderr",
          "text": "The attention mask and the pad token id were not set. As a consequence, you may observe unexpected behavior. Please pass your input's `attention_mask` to obtain reliable results.\nSetting `pad_token_id` to `eos_token_id`:50256 for open-end generation.\n",
          "output_type": "stream"
        },
        {
          "name": "stdout",
          "text": "Batch 100 of 129. Loss: 1.082387924194336. Time: 0:01:02\nExample ouput:  Lip, oh, oh, oh, oh, oh, oh\nOh, oh, oh, oh, oh, oh, oh, oh\nOh, oh, oh, oh, oh, oh, oh, oh\n\nAin't there a way that you can keep me going on so wild, oh oh, oh, oh\nI am not afraid to let you go, oh oh, oh, oh, oh, oh, oh\nI am not afraid to let you go, oh oh, oh, oh, oh, oh, oh, oh\n\nAin't there a way that you can keep me going on so wild, oh oh, oh, oh, oh\nI am not afraid to let you go, oh oh, oh, oh, oh, oh, oh, oh\n\nI am not afraid to let you go, oh oh, oh, oh, oh, oh, oh, oh\n\n\nAverage Training Loss: 0.9143670778865962. Epoch time: 0:01:21\n\nValidation loss: 1.064310375849406. Validation Time: 0:00:03\n\n------------------------------\nBeginning epoch 4 of 4\n",
          "output_type": "stream"
        },
        {
          "name": "stderr",
          "text": "The attention mask and the pad token id were not set. As a consequence, you may observe unexpected behavior. Please pass your input's `attention_mask` to obtain reliable results.\nSetting `pad_token_id` to `eos_token_id`:50256 for open-end generation.\n",
          "output_type": "stream"
        },
        {
          "name": "stdout",
          "text": "Batch 100 of 129. Loss: 0.6734940409660339. Time: 0:01:02\nExample ouput: nesium we don't need it for a cause\nBut we gotta keep on 'cause we feel strong\nAnd love is free when you let me love you\nWhen it feels right\n\nI think the music's loud\nAnd you wanna leave for the exit\nMaybe I like it better\nBut the music's not right\nSo I'm gonna make a right turn\nAnd leave you with the music\n\nWhen you're with me\nYou know I like it better\nBut the music's not right\nSo I'm gonna make a right turn\nAnd leave you with the music\n\nWhen you're with me\nYou know I like it better\nBut the music's not right\nSo I'm gonna make a right turn\nAnd leave you with the music\n\nWhen you're with me\nYou know I like it better\nBut the music's not right\nSo I'm gonna\n\nAverage Training Loss: 0.7899654369021571. Epoch time: 0:01:21\n\nValidation loss: 1.0722320516904196. Validation Time: 0:00:03\n\n------------------------------\nTotal training took 0:05:33\n",
          "output_type": "stream"
        }
      ],
      "execution_count": null
    },
    {
      "cell_type": "code",
      "source": [
        "model.eval()\n",
        "\n",
        "prompt = \"king\"\n",
        "\n",
        "generated = torch.tensor(tokenizer.encode(prompt)).unsqueeze(0)\n",
        "generated = generated.to(device)\n",
        "\n",
        "sample_outputs = model.generate(\n",
        "                                generated,\n",
        "                                do_sample=True,\n",
        "                                top_k=50,\n",
        "                                max_length = 200,\n",
        "                                top_p=0.95,\n",
        "                                num_return_sequences=3\n",
        "                                )\n",
        "\n",
        "for i, sample_output in enumerate(sample_outputs):\n",
        "  print(\"{}: {}\\n\\n\".format(i, tokenizer.decode(sample_output, skip_special_tokens=True)))"
      ],
      "metadata": {
        "id": "4HoMV19tYBNZ",
        "trusted": true,
        "execution": {
          "iopub.status.busy": "2025-01-26T14:03:22.119602Z",
          "iopub.execute_input": "2025-01-26T14:03:22.119898Z",
          "iopub.status.idle": "2025-01-26T14:03:23.922138Z",
          "shell.execute_reply.started": "2025-01-26T14:03:22.119871Z",
          "shell.execute_reply": "2025-01-26T14:03:23.921428Z"
        },
        "outputId": "3aa9dd30-1640-4a69-8f32-53130d18312b"
      },
      "outputs": [
        {
          "name": "stderr",
          "text": "The attention mask and the pad token id were not set. As a consequence, you may observe unexpected behavior. Please pass your input's `attention_mask` to obtain reliable results.\nSetting `pad_token_id` to `eos_token_id`:50256 for open-end generation.\n",
          "output_type": "stream"
        },
        {
          "name": "stdout",
          "text": "0: king when I'm out and running\nNo one's ever gonna catch me\nYou better set me free, my freedom ain't no\n\nI'll ride shotgun in the wind 'til the night is done\n\nAnd when I'm gone\nYou're the one who made me who I am\nAnd you're the one who set me free\nFree. No one's ever gonna catch me\nNo one's ever gonna catch me\nSo I take my wheel off\nAnd I ride shotgun in the wind 'til the night is done\n\nIf I get tired of all the things I like about you\nYou're the one who made me who I am\nAnd you're the one who set me free\nFree. I don't ever want to see another\nNo one's ever gonna catch me\nYou're the one who made me who I am\nSo I take my wheel off\nAnd I ride shotgun in the wind 'til the night is done\n\n\n\n1: king is a man, he's the product of his environment\nHe's born to rule but he's vain and vain, and it's clear that his soul is incomplete\nAnd if all is lost and nothing remains\nThen the man who made him a king will rise again\n\nThere's something in all of us who seek power\nThere's something in all of us who've lost our will\nThere's something in all of us who live our lives\n\nBut I'd been there for a long time\nFor one night I was lost and I wasted\nI'd been there for a long time\nFor one night I was lost and I wasted\nI'd been there for a long time\nFor one night I was lost and I wasted\nI'd been there for a long time\nFor one night I was lost and I wasted\nAnd yet I'm not lost or wasted\nThere's something in me who\n\n\n2: king through the night\nSwing through the streets and out the back door\nSaw a burning love coming back down\nSaw a burning love coming back down\n\nI said, let it burn away\nLet it burn away\nBurn away\nBurn away\nBurn away\nBurn away\n\nBurn away\nBurn away\n\nDon't you cry\nDon't you cry\nDon't you cry\nDon't you cry\nDon't you cry\nDon't you cry\n\nI don't even care\nLet it burn away\nGet out your heart, oh, oh, oh\nTake your life out and let it burn away\nOh oh, oh\nOh, oh\nThe love that I gave you was gone, but your heart still burns\nLet it burn away\nBurn away\nBurn away\nBurn away\n\nBurn away\nBurn away\n\n\n",
          "output_type": "stream"
        }
      ],
      "execution_count": null
    },
    {
      "cell_type": "code",
      "source": [
        "import torch\n",
        "import os\n",
        "\n",
        "# Specify the directory where the model will be saved\n",
        "output_dir = \"/kaggle/working/model\"\n",
        "\n",
        "# Create the directory if it doesn't exist\n",
        "os.makedirs(output_dir, exist_ok=True)\n",
        "\n",
        "# Check if model uses DataParallel and save the correct model\n",
        "model_to_save = model.module if hasattr(model, 'module') else model\n",
        "\n",
        "# Save the trained model, configuration, and tokenizer\n",
        "model_to_save.save_pretrained(output_dir)\n",
        "tokenizer.save_pretrained(output_dir)\n",
        "\n",
        "print(f'Model and tokenizer saved to {output_dir}')\n",
        "\n",
        "# Zip the saved model directory for download\n",
        "!zip -r model.zip /kaggle/working/model\n",
        "print(\"Model zipped and ready for download.\")\n"
      ],
      "metadata": {
        "trusted": true,
        "execution": {
          "iopub.status.busy": "2025-01-26T14:19:01.552538Z",
          "iopub.execute_input": "2025-01-26T14:19:01.552842Z",
          "iopub.status.idle": "2025-01-26T14:19:28.172274Z",
          "shell.execute_reply.started": "2025-01-26T14:19:01.552822Z",
          "shell.execute_reply": "2025-01-26T14:19:28.171407Z"
        },
        "id": "69-CoDxcMl0L",
        "outputId": "781e1852-0156-4b11-8ed0-018deedc603d"
      },
      "outputs": [
        {
          "name": "stdout",
          "text": "Model and tokenizer saved to /kaggle/working/model\n  adding: kaggle/working/model/ (stored 0%)\n  adding: kaggle/working/model/model.safetensors (deflated 7%)\n  adding: kaggle/working/model/special_tokens_map.json (deflated 75%)\n  adding: kaggle/working/model/config.json (deflated 51%)\n  adding: kaggle/working/model/merges.txt (deflated 53%)\n  adding: kaggle/working/model/generation_config.json (deflated 24%)\n  adding: kaggle/working/model/vocab.json (deflated 68%)\n  adding: kaggle/working/model/tokenizer_config.json (deflated 72%)\n  adding: kaggle/working/model/added_tokens.json (deflated 35%)\nModel zipped and ready for download.\n",
          "output_type": "stream"
        }
      ],
      "execution_count": null
    },
    {
      "cell_type": "code",
      "source": [],
      "metadata": {
        "trusted": true,
        "id": "DVnGqe_0Ml0L"
      },
      "outputs": [],
      "execution_count": null
    }
  ]
}